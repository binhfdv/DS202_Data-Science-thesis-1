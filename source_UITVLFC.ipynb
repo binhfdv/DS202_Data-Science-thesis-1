{
 "cells": [
  {
   "cell_type": "markdown",
   "metadata": {
    "id": "3yP10nPcSFSt"
   },
   "source": [
    "# Libraries"
   ]
  },
  {
   "cell_type": "code",
   "execution_count": 1,
   "metadata": {
    "colab": {
     "base_uri": "https://localhost:8080/"
    },
    "id": "EcPlyJbdRR75",
    "outputId": "69bf95aa-945d-4ce1-90d0-8a11f8302a0f"
   },
   "outputs": [
    {
     "name": "stdout",
     "output_type": "stream",
     "text": [
      "Requirement already satisfied: emoji in /usr/local/lib/python3.6/dist-packages (0.6.0)\n"
     ]
    }
   ],
   "source": [
    "pip install emoji"
   ]
  },
  {
   "cell_type": "code",
   "execution_count": 2,
   "metadata": {
    "id": "0kyrkwBOSEBl"
   },
   "outputs": [],
   "source": [
    "import emoji\n",
    "import re\n",
    "import string\n",
    "from emoji import UNICODE_EMOJI, demojize\n",
    "from collections import OrderedDict\n",
    "\n",
    "import pandas as pd\n",
    "import numpy as np\n",
    "from sklearn.naive_bayes import MultinomialNB\n",
    "from sklearn.ensemble import RandomForestClassifier\n",
    "from sklearn.svm import SVC\n",
    "from sklearn.linear_model import LogisticRegression\n",
    "\n",
    "from sklearn.utils import class_weight\n",
    "from keras.utils import to_categorical\n",
    "from keras.models import Sequential\n",
    "from keras.layers import Dense, Dropout\n",
    "from sklearn.feature_extraction.text import CountVectorizer\n",
    "import seaborn as sns\n",
    "\n",
    "from sklearn.metrics import classification_report, confusion_matrix\n",
    "\n"
   ]
  },
  {
   "cell_type": "markdown",
   "metadata": {
    "id": "f1VC4IlJSVUq"
   },
   "source": [
    "# Data"
   ]
  },
  {
   "cell_type": "code",
   "execution_count": 3,
   "metadata": {
    "id": "8qZxaT2-bfY0"
   },
   "outputs": [],
   "source": [
    "data = pd.read_excel('/content/drive/MyDrive/Colab Notebooks/Đồ án KHDL1/Ngày 10 tháng 11 .xlsx')\n",
    "data = data[data['label'] != -2]\n",
    "data = data.iloc[:len(data)-1] #xóa dòng cuối(dòng độ đồng thuận)\n",
    "data = data[['comments', 'label']]"
   ]
  },
  {
   "cell_type": "code",
   "execution_count": 4,
   "metadata": {
    "id": "PonSklfLSO01"
   },
   "outputs": [],
   "source": [
    "train = pd.read_csv('/content/drive/MyDrive/Colab Notebooks/Đồ án KHDL1/Chia train test/train.csv')\n",
    "test = pd.read_csv('/content/drive/MyDrive/Colab Notebooks/Đồ án KHDL1/Chia train test/test.csv')\n",
    "val = pd.read_csv('/content/drive/MyDrive/Colab Notebooks/Đồ án KHDL1/Chia train test/val.csv')"
   ]
  },
  {
   "cell_type": "code",
   "execution_count": 5,
   "metadata": {
    "id": "9azKaE3GTiEH"
   },
   "outputs": [],
   "source": [
    "train = train[['comments', 'label']]\n",
    "test = test[['comments', 'label']]\n",
    "val = val[['comments', 'label']]"
   ]
  },
  {
   "cell_type": "code",
   "execution_count": 6,
   "metadata": {
    "id": "zP_pUC1dTiG4"
   },
   "outputs": [],
   "source": [
    "train = train[train['label'] != -2]\n",
    "test = test[test['label'] != -2]\n",
    "val = val[val['label'] != -2]"
   ]
  },
  {
   "cell_type": "markdown",
   "metadata": {
    "id": "rEB31SetkkHU"
   },
   "source": [
    "#Preprocessing:"
   ]
  },
  {
   "cell_type": "code",
   "execution_count": 7,
   "metadata": {
    "id": "OpPpUTKyZbIG"
   },
   "outputs": [],
   "source": [
    "stoplist = []\n",
    "#stoplist = ['mn', 'hs', 'hà', 'nội', 'nhân', 'viên', 'nv', 'ngta', 'tỉnh', 'kiem', 'tra', 'khuyến', 'mãi', 'store', 'online']"
   ]
  },
  {
   "cell_type": "code",
   "execution_count": 8,
   "metadata": {
    "id": "8ZzjxSh-VSvm"
   },
   "outputs": [],
   "source": [
    "def remove_stopwords(sentence):\n",
    "  words = sentence.split()\n",
    "  filtered_sentence = []\n",
    "  for w in words:\n",
    "    if not w in stoplist:\n",
    "      filtered_sentence.append(w)\n",
    "  concat_filter_sentence = ' '.join(filtered_sentence)\n",
    "  return concat_filter_sentence"
   ]
  },
  {
   "cell_type": "code",
   "execution_count": 9,
   "metadata": {
    "id": "vNiLMeasGTxZ"
   },
   "outputs": [],
   "source": [
    "def punctuation_clean(s):\n",
    "  s = s.strip()\n",
    "  s = s.lower()\n",
    "  for i in s:\n",
    "    if i in string.punctuation+'\\n':\n",
    "      s = s.replace(i, ' ')\n",
    "  return s\n",
    "\n",
    "def merge_same_character(comment):\n",
    "  word=[]\n",
    "  for w in comment.split(): \n",
    "    character=[]\n",
    "    for i in range(len(w)):\n",
    "      if(i==0):\n",
    "        character.append(w[i])\n",
    "      else:\n",
    "        if(w[i]!= character[int(len(character)-1)]):\n",
    "          character.append(w[i])\n",
    "    word.append(''.join(character))\n",
    "  sentence=' '.join(word)\n",
    "  return sentence\n",
    "\n",
    "def removeDupWithOrder(s): \n",
    "    return \"\".join(OrderedDict.fromkeys(s))\n",
    "\n",
    "def fix_emoji(sentence):\n",
    "  emojis=[]\n",
    "  a=sentence.split()\n",
    "  words=[]\n",
    "  if len(sentence)==0:\n",
    "    return sentence\n",
    "  \n",
    "  for i in range(len(a)):\n",
    "    word=[]\n",
    "\n",
    "    for j in range(len(a[i])):\n",
    "        if list(a[i])[j] in UNICODE_EMOJI:\n",
    "          emojis.append(list(a[i])[j])\n",
    "        else: \n",
    "          word.append(list(a[i])[j])\n",
    "\n",
    "    word_fix=''.join(w for w in word)\n",
    "    words.append(word_fix)\n",
    "\n",
    "    while(\"\" in words):\n",
    "      words.remove(\"\")\n",
    "    words_fix=' '.join(w for w in words)\n",
    "    emoji_fix=''.join(e for e in emojis)\n",
    "    emoji_fix=removeDupWithOrder(emoji_fix)\n",
    "    emoji_fix_list=list(emoji_fix)\n",
    "    emoji_fix=' '.join(e for e in emoji_fix_list)\n",
    "    if words_fix=='':\n",
    "      return emoji_fix\n",
    "  \n",
    "  return words_fix+' '+ emoji_fix\n",
    "\n",
    "def emoji_to_text(s):\n",
    "  for x in list(s):\n",
    "    if (x in UNICODE_EMOJI):\n",
    "      s = demojize(s)\n",
    "      s = s.replace(':', ' ')\n",
    "      break\n",
    "    else:\n",
    "      pass\n",
    "  return s"
   ]
  },
  {
   "cell_type": "code",
   "execution_count": 10,
   "metadata": {
    "id": "8oN9NBcrImp3"
   },
   "outputs": [],
   "source": [
    "def data_cleaning(df):\n",
    "  df.comments = df.comments.apply(punctuation_clean)\n",
    "  df.comments = df.comments.apply(merge_same_character)\n",
    "  df.comments = df.comments.apply(fix_emoji)\n",
    "  df.comments = df.comments.apply(emoji_to_text)\n",
    "  df.comments = df.comments.apply(remove_stopwords)\n",
    "  df = df.drop_duplicates()\n",
    "  df.reset_index(drop=True, inplace=True)\n",
    "  print(df.shape)\n",
    "  return df"
   ]
  },
  {
   "cell_type": "code",
   "execution_count": 11,
   "metadata": {
    "colab": {
     "base_uri": "https://localhost:8080/",
     "height": 0
    },
    "id": "_ZyUf0-VHvL1",
    "outputId": "956ca4e5-9738-408d-f53a-7bc111b4c2e3"
   },
   "outputs": [
    {
     "data": {
      "text/html": [
       "<div>\n",
       "<style scoped>\n",
       "    .dataframe tbody tr th:only-of-type {\n",
       "        vertical-align: middle;\n",
       "    }\n",
       "\n",
       "    .dataframe tbody tr th {\n",
       "        vertical-align: top;\n",
       "    }\n",
       "\n",
       "    .dataframe thead th {\n",
       "        text-align: right;\n",
       "    }\n",
       "</style>\n",
       "<table border=\"1\" class=\"dataframe\">\n",
       "  <thead>\n",
       "    <tr style=\"text-align: right;\">\n",
       "      <th></th>\n",
       "      <th>word</th>\n",
       "      <th>count</th>\n",
       "      <th>note</th>\n",
       "    </tr>\n",
       "  </thead>\n",
       "  <tbody>\n",
       "    <tr>\n",
       "      <th>0</th>\n",
       "      <td>son</td>\n",
       "      <td>10056</td>\n",
       "      <td>NaN</td>\n",
       "    </tr>\n",
       "    <tr>\n",
       "      <th>1</th>\n",
       "      <td>màu</td>\n",
       "      <td>8090</td>\n",
       "      <td>NaN</td>\n",
       "    </tr>\n",
       "    <tr>\n",
       "      <th>2</th>\n",
       "      <td>hàng</td>\n",
       "      <td>5712</td>\n",
       "      <td>NaN</td>\n",
       "    </tr>\n",
       "    <tr>\n",
       "      <th>3</th>\n",
       "      <td>đẹp</td>\n",
       "      <td>5329</td>\n",
       "      <td>NaN</td>\n",
       "    </tr>\n",
       "    <tr>\n",
       "      <th>4</th>\n",
       "      <td>giao</td>\n",
       "      <td>3778</td>\n",
       "      <td>NaN</td>\n",
       "    </tr>\n",
       "    <tr>\n",
       "      <th>5</th>\n",
       "      <td>rất</td>\n",
       "      <td>3658</td>\n",
       "      <td>NaN</td>\n",
       "    </tr>\n",
       "    <tr>\n",
       "      <th>6</th>\n",
       "      <td>shop</td>\n",
       "      <td>3356</td>\n",
       "      <td>NaN</td>\n",
       "    </tr>\n",
       "    <tr>\n",
       "      <th>7</th>\n",
       "      <td>gói</td>\n",
       "      <td>3236</td>\n",
       "      <td>NaN</td>\n",
       "    </tr>\n",
       "    <tr>\n",
       "      <th>8</th>\n",
       "      <td>không</td>\n",
       "      <td>3168</td>\n",
       "      <td>NaN</td>\n",
       "    </tr>\n",
       "    <tr>\n",
       "      <th>9</th>\n",
       "      <td>chất</td>\n",
       "      <td>3094</td>\n",
       "      <td>NaN</td>\n",
       "    </tr>\n",
       "  </tbody>\n",
       "</table>\n",
       "</div>"
      ],
      "text/plain": [
       "    word  count note\n",
       "0    son  10056  NaN\n",
       "1    màu   8090  NaN\n",
       "2   hàng   5712  NaN\n",
       "3    đẹp   5329  NaN\n",
       "4   giao   3778  NaN\n",
       "5    rất   3658  NaN\n",
       "6   shop   3356  NaN\n",
       "7    gói   3236  NaN\n",
       "8  không   3168  NaN\n",
       "9   chất   3094  NaN"
      ]
     },
     "execution_count": 11,
     "metadata": {
      "tags": []
     },
     "output_type": "execute_result"
    }
   ],
   "source": [
    "word_list = pd.read_csv('https://raw.githubusercontent.com/githubbinh/Data-Science-thesis-1/main/word_list.csv')\n",
    "word_list.columns = ['word', 'count', 'note']\n",
    "word_list.head(10)"
   ]
  },
  {
   "cell_type": "code",
   "execution_count": 12,
   "metadata": {
    "colab": {
     "base_uri": "https://localhost:8080/"
    },
    "id": "g6dBagaNHv2D",
    "outputId": "74720521-3888-415d-ae40-36184b5c2a1c"
   },
   "outputs": [
    {
     "data": {
      "text/plain": [
       "(793, 3)"
      ]
     },
     "execution_count": 12,
     "metadata": {
      "tags": []
     },
     "output_type": "execute_result"
    }
   ],
   "source": [
    "word_list.dropna(axis=0, inplace=True)\n",
    "word_list = word_list[['word', 'note']]\n",
    "word_list.reset_index(inplace=True)\n",
    "word_list.shape"
   ]
  },
  {
   "cell_type": "code",
   "execution_count": 13,
   "metadata": {
    "id": "CP6ZV1kVH1ss"
   },
   "outputs": [],
   "source": [
    "spam_dict = {}\n",
    "for k, v in spam_dict.items():\n",
    "  if v == 'spam':\n",
    "    spam_dict[k] = ''"
   ]
  },
  {
   "cell_type": "code",
   "execution_count": 14,
   "metadata": {
    "colab": {
     "base_uri": "https://localhost:8080/"
    },
    "id": "1KPX6VZiIzC1",
    "outputId": "45bd7b4e-5bec-40dd-8c69-0cc313f65f72"
   },
   "outputs": [
    {
     "name": "stdout",
     "output_type": "stream",
     "text": [
      "(9849, 2)\n",
      "(1267, 2)\n",
      "(1267, 2)\n"
     ]
    }
   ],
   "source": [
    "train = data_cleaning(train)\n",
    "test = data_cleaning(test)\n",
    "val = data_cleaning(val)"
   ]
  },
  {
   "cell_type": "code",
   "execution_count": 15,
   "metadata": {
    "id": "X2hC7M1NH8bO"
   },
   "outputs": [],
   "source": [
    "def remove_spam(s):\n",
    "  slist = s.split()\n",
    "  for i in range(len(slist)):\n",
    "    for k, v in spam_dict.items():\n",
    "      if slist[i]==k:\n",
    "        slist[i] = v\n",
    "  return ' '.join(i for i in slist)"
   ]
  },
  {
   "cell_type": "code",
   "execution_count": 16,
   "metadata": {
    "id": "s5wAGWx1Mq-Y"
   },
   "outputs": [],
   "source": [
    "train.comments = train.comments.apply(remove_spam)"
   ]
  },
  {
   "cell_type": "code",
   "execution_count": 17,
   "metadata": {
    "id": "_fiJoAobGhZF"
   },
   "outputs": [],
   "source": [
    "X_train = train['comments']\n",
    "y_train = train['label']\n",
    "X_test = test['comments']\n",
    "y_test = test['label']\n",
    "X_val = val['comments']\n",
    "y_val = val['label']"
   ]
  },
  {
   "cell_type": "markdown",
   "metadata": {
    "id": "RfMiloZ_cH-U"
   },
   "source": [
    "### all_data:"
   ]
  },
  {
   "cell_type": "code",
   "execution_count": 18,
   "metadata": {
    "colab": {
     "base_uri": "https://localhost:8080/"
    },
    "id": "vLi2SgeScL_V",
    "outputId": "a8abb71c-ce6b-43ad-c904-9b655fe28162"
   },
   "outputs": [
    {
     "name": "stdout",
     "output_type": "stream",
     "text": [
      "(12228, 2)\n"
     ]
    }
   ],
   "source": [
    "data = data_cleaning(data)\n",
    "data.comments = data.comments.apply(remove_spam)\n",
    "\n",
    "comments = data['comments']\n",
    "labels = data['label']"
   ]
  },
  {
   "cell_type": "markdown",
   "metadata": {
    "id": "fQv1TVXMoQ1H"
   },
   "source": [
    "#Encoding:\n",
    "- Sử dụng bert tạo vocabulary\n",
    "- Sử dụng Countvectorizer"
   ]
  },
  {
   "cell_type": "code",
   "execution_count": 19,
   "metadata": {
    "colab": {
     "base_uri": "https://localhost:8080/"
    },
    "id": "J7v9DZu5JQPI",
    "outputId": "dacefa8c-1296-4f16-fe16-23faab74e33e"
   },
   "outputs": [
    {
     "name": "stdout",
     "output_type": "stream",
     "text": [
      "fatal: destination path 'transformers' already exists and is not an empty directory.\n"
     ]
    }
   ],
   "source": [
    "!git clone https://github.com/huggingface/transformers.git"
   ]
  },
  {
   "cell_type": "code",
   "execution_count": 20,
   "metadata": {
    "colab": {
     "base_uri": "https://localhost:8080/"
    },
    "id": "sNqSabwIJQL4",
    "outputId": "68bdc24c-7e18-4713-9ee2-52c8e580a0f6"
   },
   "outputs": [
    {
     "name": "stdout",
     "output_type": "stream",
     "text": [
      "Requirement already satisfied: vncorenlp in /usr/local/lib/python3.6/dist-packages (1.0.3)\n",
      "Requirement already satisfied: requests in /usr/local/lib/python3.6/dist-packages (from vncorenlp) (2.23.0)\n",
      "Requirement already satisfied: certifi>=2017.4.17 in /usr/local/lib/python3.6/dist-packages (from requests->vncorenlp) (2020.12.5)\n",
      "Requirement already satisfied: urllib3!=1.25.0,!=1.25.1,<1.26,>=1.21.1 in /usr/local/lib/python3.6/dist-packages (from requests->vncorenlp) (1.24.3)\n",
      "Requirement already satisfied: idna<3,>=2.5 in /usr/local/lib/python3.6/dist-packages (from requests->vncorenlp) (2.10)\n",
      "Requirement already satisfied: chardet<4,>=3.0.2 in /usr/local/lib/python3.6/dist-packages (from requests->vncorenlp) (3.0.4)\n",
      "--2020-12-27 14:09:24--  https://raw.githubusercontent.com/vncorenlp/VnCoreNLP/master/VnCoreNLP-1.1.1.jar\n",
      "Resolving raw.githubusercontent.com (raw.githubusercontent.com)... 151.101.0.133, 151.101.64.133, 151.101.128.133, ...\n",
      "Connecting to raw.githubusercontent.com (raw.githubusercontent.com)|151.101.0.133|:443... connected.\n",
      "HTTP request sent, awaiting response... 200 OK\n",
      "Length: 27412575 (26M) [application/octet-stream]\n",
      "Saving to: ‘VnCoreNLP-1.1.1.jar’\n",
      "\n",
      "VnCoreNLP-1.1.1.jar 100%[===================>]  26.14M  78.3MB/s    in 0.3s    \n",
      "\n",
      "2020-12-27 14:09:25 (78.3 MB/s) - ‘VnCoreNLP-1.1.1.jar’ saved [27412575/27412575]\n",
      "\n",
      "--2020-12-27 14:09:25--  https://raw.githubusercontent.com/vncorenlp/VnCoreNLP/master/models/wordsegmenter/vi-vocab\n",
      "Resolving raw.githubusercontent.com (raw.githubusercontent.com)... 151.101.0.133, 151.101.64.133, 151.101.128.133, ...\n",
      "Connecting to raw.githubusercontent.com (raw.githubusercontent.com)|151.101.0.133|:443... connected.\n",
      "HTTP request sent, awaiting response... 200 OK\n",
      "Length: 526544 (514K) [application/octet-stream]\n",
      "Saving to: ‘vi-vocab’\n",
      "\n",
      "vi-vocab            100%[===================>] 514.20K  --.-KB/s    in 0.03s   \n",
      "\n",
      "2020-12-27 14:09:25 (17.3 MB/s) - ‘vi-vocab’ saved [526544/526544]\n",
      "\n",
      "--2020-12-27 14:09:25--  https://raw.githubusercontent.com/vncorenlp/VnCoreNLP/master/models/wordsegmenter/wordsegmenter.rdr\n",
      "Resolving raw.githubusercontent.com (raw.githubusercontent.com)... 151.101.0.133, 151.101.64.133, 151.101.128.133, ...\n",
      "Connecting to raw.githubusercontent.com (raw.githubusercontent.com)|151.101.0.133|:443... connected.\n",
      "HTTP request sent, awaiting response... 200 OK\n",
      "Length: 128508 (125K) [text/plain]\n",
      "Saving to: ‘wordsegmenter.rdr’\n",
      "\n",
      "wordsegmenter.rdr   100%[===================>] 125.50K  --.-KB/s    in 0.02s   \n",
      "\n",
      "2020-12-27 14:09:26 (5.59 MB/s) - ‘wordsegmenter.rdr’ saved [128508/128508]\n",
      "\n"
     ]
    }
   ],
   "source": [
    "# Install the vncorenlp python wrapper\n",
    "!pip3 install vncorenlp\n",
    "\n",
    "# Download VnCoreNLP-1.1.1.jar & its word segmentation component (i.e. RDRSegmenter) \n",
    "!mkdir -p vncorenlp/models/wordsegmenter\n",
    "!wget https://raw.githubusercontent.com/vncorenlp/VnCoreNLP/master/VnCoreNLP-1.1.1.jar\n",
    "!wget https://raw.githubusercontent.com/vncorenlp/VnCoreNLP/master/models/wordsegmenter/vi-vocab\n",
    "!wget https://raw.githubusercontent.com/vncorenlp/VnCoreNLP/master/models/wordsegmenter/wordsegmenter.rdr\n",
    "!mv VnCoreNLP-1.1.1.jar vncorenlp/ \n",
    "!mv vi-vocab vncorenlp/models/wordsegmenter/\n",
    "!mv wordsegmenter.rdr vncorenlp/models/wordsegmenter/"
   ]
  },
  {
   "cell_type": "code",
   "execution_count": 21,
   "metadata": {
    "id": "EydWvdIiJQH2"
   },
   "outputs": [],
   "source": [
    "# Load rdrsegmenter from VnCoreNLP\n",
    "from vncorenlp import VnCoreNLP\n",
    "rdrsegmenter = VnCoreNLP(\"/content/vncorenlp/VnCoreNLP-1.1.1.jar\", annotators=\"wseg\", max_heap_size='-Xmx500m') # Load rdrsegmenter from VnCoreNLP\n",
    "from vncorenlp import VnCoreNLP\n",
    "rdrsegmenter = VnCoreNLP(\"/content/vncorenlp/VnCoreNLP-1.1.1.jar\", annotators=\"wseg\", max_heap_size='-Xmx500m') "
   ]
  },
  {
   "cell_type": "code",
   "execution_count": 22,
   "metadata": {
    "id": "IVJY4uXQJkLd"
   },
   "outputs": [],
   "source": [
    "word_list = []\n",
    "for i in range(len(X_train)): \n",
    "  text = X_train[i]\n",
    "  vocab = rdrsegmenter.tokenize(text)\n",
    "  for j in vocab:\n",
    "    for k in j:\n",
    "      if k not in word_list:\n",
    "        word_list.append(k)"
   ]
  },
  {
   "cell_type": "code",
   "execution_count": 23,
   "metadata": {
    "id": "-5X51E1VKNRx"
   },
   "outputs": [],
   "source": [
    "vocabulary_dict = {}\n",
    "for i, vocab in enumerate(word_list):\n",
    "  vocabulary_dict[vocab] = i"
   ]
  },
  {
   "cell_type": "markdown",
   "metadata": {
    "id": "MTCICReHnj9D"
   },
   "source": [
    "###CountVectorizer"
   ]
  },
  {
   "cell_type": "code",
   "execution_count": 24,
   "metadata": {
    "id": "ZnS4T_P0oRJY"
   },
   "outputs": [],
   "source": [
    "cv = CountVectorizer(vocabulary=vocabulary_dict)\n",
    "X_train = cv.fit_transform(X_train)\n",
    "X_test = cv.transform(X_test)\n",
    "X_val = cv.transform(X_val)"
   ]
  },
  {
   "cell_type": "code",
   "execution_count": 25,
   "metadata": {
    "id": "i0Er0I1lpJq2"
   },
   "outputs": [],
   "source": [
    "X_train = X_train.toarray()\n",
    "X_test = X_test.toarray()\n",
    "X_val = X_val.toarray()\n"
   ]
  },
  {
   "cell_type": "code",
   "execution_count": 26,
   "metadata": {
    "colab": {
     "base_uri": "https://localhost:8080/"
    },
    "id": "DQsqP_7cpcMN",
    "outputId": "94e73525-36ea-453f-a899-d1784966f0cd"
   },
   "outputs": [
    {
     "data": {
      "text/plain": [
       "(9849, 6323)"
      ]
     },
     "execution_count": 26,
     "metadata": {
      "tags": []
     },
     "output_type": "execute_result"
    }
   ],
   "source": [
    "X_train.shape"
   ]
  },
  {
   "cell_type": "code",
   "execution_count": 27,
   "metadata": {
    "id": "Gy4BZPOPiASN"
   },
   "outputs": [],
   "source": [
    "words = []\n",
    "for i in cv.vocabulary_:\n",
    "  words.append(i)"
   ]
  },
  {
   "cell_type": "code",
   "execution_count": 28,
   "metadata": {
    "colab": {
     "base_uri": "https://localhost:8080/",
     "height": 439
    },
    "id": "_K11WPRBQ0BU",
    "outputId": "314f629b-4931-40d7-c74e-b28200d65ca0"
   },
   "outputs": [
    {
     "data": {
      "text/html": [
       "<div>\n",
       "<style scoped>\n",
       "    .dataframe tbody tr th:only-of-type {\n",
       "        vertical-align: middle;\n",
       "    }\n",
       "\n",
       "    .dataframe tbody tr th {\n",
       "        vertical-align: top;\n",
       "    }\n",
       "\n",
       "    .dataframe thead th {\n",
       "        text-align: right;\n",
       "    }\n",
       "</style>\n",
       "<table border=\"1\" class=\"dataframe\">\n",
       "  <thead>\n",
       "    <tr style=\"text-align: right;\">\n",
       "      <th></th>\n",
       "      <th>màu_son</th>\n",
       "      <th>đánh</th>\n",
       "      <th>nhạt</th>\n",
       "      <th>lên</th>\n",
       "      <th>môi</th>\n",
       "      <th>mình</th>\n",
       "      <th>gần_gần</th>\n",
       "      <th>giống</th>\n",
       "      <th>hồng</th>\n",
       "      <th>cánh_sen</th>\n",
       "      <th>tạm</th>\n",
       "      <th>dùng</th>\n",
       "      <th>được</th>\n",
       "      <th>gói</th>\n",
       "      <th>hàng</th>\n",
       "      <th>cẩn_thận</th>\n",
       "      <th>hastag</th>\n",
       "      <th>dễ_thương_son</th>\n",
       "      <th>chính</th>\n",
       "      <th>hãng</th>\n",
       "      <th>sẽ</th>\n",
       "      <th>ủng_hộ</th>\n",
       "      <th>shop</th>\n",
       "      <th>dài_dài</th>\n",
       "      <th>smiling</th>\n",
       "      <th>_</th>\n",
       "      <th>face</th>\n",
       "      <th>with</th>\n",
       "      <th>3</th>\n",
       "      <th>hearts</th>\n",
       "      <th>_son</th>\n",
       "      <th>mịn</th>\n",
       "      <th>màu</th>\n",
       "      <th>đỏ</th>\n",
       "      <th>nâu</th>\n",
       "      <th>hơi</th>\n",
       "      <th>trầm</th>\n",
       "      <th>xíu</th>\n",
       "      <th>nhưng</th>\n",
       "      <th>rất</th>\n",
       "      <th>...</th>\n",
       "      <th>bịp</th>\n",
       "      <th>như_thế_son</th>\n",
       "      <th>checkcđc</th>\n",
       "      <th>djdjdjsjsjsjsjsisjksdbdjdjdbxjsi</th>\n",
       "      <th>chổi_son</th>\n",
       "      <th>kinh_doanh</th>\n",
       "      <th>này_nọ_son</th>\n",
       "      <th>shoping</th>\n",
       "      <th>photoshop</th>\n",
       "      <th>quá_đà</th>\n",
       "      <th>jealous</th>\n",
       "      <th>dhc</th>\n",
       "      <th>đẩy_son</th>\n",
       "      <th>tay_ấn</th>\n",
       "      <th>bloger</th>\n",
       "      <th>ớt</th>\n",
       "      <th>phát_đạt</th>\n",
       "      <th>jdbdjdnjwbhxbdhdbjebjxbejwnixbdjdb</th>\n",
       "      <th>bet</th>\n",
       "      <th>dinh</th>\n",
       "      <th>rit</th>\n",
       "      <th>nửa_son</th>\n",
       "      <th>phâm</th>\n",
       "      <th>lịm</th>\n",
       "      <th>nk</th>\n",
       "      <th>gian_hàng</th>\n",
       "      <th>chawsb</th>\n",
       "      <th>shoptido</th>\n",
       "      <th>sale5k</th>\n",
       "      <th>thô</th>\n",
       "      <th>thanh_mảnh</th>\n",
       "      <th>ra_gì</th>\n",
       "      <th>tái</th>\n",
       "      <th>107k</th>\n",
       "      <th>dongd</th>\n",
       "      <th>líp</th>\n",
       "      <th>a9</th>\n",
       "      <th>sánh</th>\n",
       "      <th>bới</th>\n",
       "      <th>điệp</th>\n",
       "    </tr>\n",
       "  </thead>\n",
       "  <tbody>\n",
       "    <tr>\n",
       "      <th>0</th>\n",
       "      <td>0</td>\n",
       "      <td>1</td>\n",
       "      <td>1</td>\n",
       "      <td>1</td>\n",
       "      <td>1</td>\n",
       "      <td>1</td>\n",
       "      <td>0</td>\n",
       "      <td>1</td>\n",
       "      <td>1</td>\n",
       "      <td>0</td>\n",
       "      <td>1</td>\n",
       "      <td>1</td>\n",
       "      <td>1</td>\n",
       "      <td>0</td>\n",
       "      <td>0</td>\n",
       "      <td>0</td>\n",
       "      <td>0</td>\n",
       "      <td>0</td>\n",
       "      <td>0</td>\n",
       "      <td>0</td>\n",
       "      <td>0</td>\n",
       "      <td>0</td>\n",
       "      <td>0</td>\n",
       "      <td>0</td>\n",
       "      <td>0</td>\n",
       "      <td>0</td>\n",
       "      <td>0</td>\n",
       "      <td>0</td>\n",
       "      <td>0</td>\n",
       "      <td>0</td>\n",
       "      <td>0</td>\n",
       "      <td>0</td>\n",
       "      <td>1</td>\n",
       "      <td>0</td>\n",
       "      <td>0</td>\n",
       "      <td>0</td>\n",
       "      <td>0</td>\n",
       "      <td>0</td>\n",
       "      <td>0</td>\n",
       "      <td>0</td>\n",
       "      <td>...</td>\n",
       "      <td>0</td>\n",
       "      <td>0</td>\n",
       "      <td>0</td>\n",
       "      <td>0</td>\n",
       "      <td>0</td>\n",
       "      <td>0</td>\n",
       "      <td>0</td>\n",
       "      <td>0</td>\n",
       "      <td>0</td>\n",
       "      <td>0</td>\n",
       "      <td>0</td>\n",
       "      <td>0</td>\n",
       "      <td>0</td>\n",
       "      <td>0</td>\n",
       "      <td>0</td>\n",
       "      <td>0</td>\n",
       "      <td>0</td>\n",
       "      <td>0</td>\n",
       "      <td>0</td>\n",
       "      <td>0</td>\n",
       "      <td>0</td>\n",
       "      <td>0</td>\n",
       "      <td>0</td>\n",
       "      <td>0</td>\n",
       "      <td>0</td>\n",
       "      <td>0</td>\n",
       "      <td>0</td>\n",
       "      <td>0</td>\n",
       "      <td>0</td>\n",
       "      <td>0</td>\n",
       "      <td>0</td>\n",
       "      <td>0</td>\n",
       "      <td>0</td>\n",
       "      <td>0</td>\n",
       "      <td>0</td>\n",
       "      <td>0</td>\n",
       "      <td>0</td>\n",
       "      <td>0</td>\n",
       "      <td>0</td>\n",
       "      <td>0</td>\n",
       "    </tr>\n",
       "    <tr>\n",
       "      <th>1</th>\n",
       "      <td>0</td>\n",
       "      <td>0</td>\n",
       "      <td>0</td>\n",
       "      <td>0</td>\n",
       "      <td>0</td>\n",
       "      <td>0</td>\n",
       "      <td>0</td>\n",
       "      <td>0</td>\n",
       "      <td>0</td>\n",
       "      <td>0</td>\n",
       "      <td>0</td>\n",
       "      <td>0</td>\n",
       "      <td>0</td>\n",
       "      <td>1</td>\n",
       "      <td>1</td>\n",
       "      <td>0</td>\n",
       "      <td>1</td>\n",
       "      <td>0</td>\n",
       "      <td>1</td>\n",
       "      <td>1</td>\n",
       "      <td>1</td>\n",
       "      <td>0</td>\n",
       "      <td>1</td>\n",
       "      <td>0</td>\n",
       "      <td>0</td>\n",
       "      <td>0</td>\n",
       "      <td>0</td>\n",
       "      <td>0</td>\n",
       "      <td>0</td>\n",
       "      <td>0</td>\n",
       "      <td>0</td>\n",
       "      <td>0</td>\n",
       "      <td>0</td>\n",
       "      <td>0</td>\n",
       "      <td>0</td>\n",
       "      <td>0</td>\n",
       "      <td>0</td>\n",
       "      <td>0</td>\n",
       "      <td>0</td>\n",
       "      <td>0</td>\n",
       "      <td>...</td>\n",
       "      <td>0</td>\n",
       "      <td>0</td>\n",
       "      <td>0</td>\n",
       "      <td>0</td>\n",
       "      <td>0</td>\n",
       "      <td>0</td>\n",
       "      <td>0</td>\n",
       "      <td>0</td>\n",
       "      <td>0</td>\n",
       "      <td>0</td>\n",
       "      <td>0</td>\n",
       "      <td>0</td>\n",
       "      <td>0</td>\n",
       "      <td>0</td>\n",
       "      <td>0</td>\n",
       "      <td>0</td>\n",
       "      <td>0</td>\n",
       "      <td>0</td>\n",
       "      <td>0</td>\n",
       "      <td>0</td>\n",
       "      <td>0</td>\n",
       "      <td>0</td>\n",
       "      <td>0</td>\n",
       "      <td>0</td>\n",
       "      <td>0</td>\n",
       "      <td>0</td>\n",
       "      <td>0</td>\n",
       "      <td>0</td>\n",
       "      <td>0</td>\n",
       "      <td>0</td>\n",
       "      <td>0</td>\n",
       "      <td>0</td>\n",
       "      <td>0</td>\n",
       "      <td>0</td>\n",
       "      <td>0</td>\n",
       "      <td>0</td>\n",
       "      <td>0</td>\n",
       "      <td>0</td>\n",
       "      <td>0</td>\n",
       "      <td>0</td>\n",
       "    </tr>\n",
       "    <tr>\n",
       "      <th>2</th>\n",
       "      <td>0</td>\n",
       "      <td>0</td>\n",
       "      <td>0</td>\n",
       "      <td>0</td>\n",
       "      <td>0</td>\n",
       "      <td>0</td>\n",
       "      <td>0</td>\n",
       "      <td>0</td>\n",
       "      <td>0</td>\n",
       "      <td>0</td>\n",
       "      <td>0</td>\n",
       "      <td>0</td>\n",
       "      <td>0</td>\n",
       "      <td>0</td>\n",
       "      <td>0</td>\n",
       "      <td>0</td>\n",
       "      <td>0</td>\n",
       "      <td>0</td>\n",
       "      <td>0</td>\n",
       "      <td>0</td>\n",
       "      <td>0</td>\n",
       "      <td>0</td>\n",
       "      <td>0</td>\n",
       "      <td>0</td>\n",
       "      <td>0</td>\n",
       "      <td>0</td>\n",
       "      <td>0</td>\n",
       "      <td>0</td>\n",
       "      <td>0</td>\n",
       "      <td>0</td>\n",
       "      <td>0</td>\n",
       "      <td>1</td>\n",
       "      <td>1</td>\n",
       "      <td>1</td>\n",
       "      <td>1</td>\n",
       "      <td>1</td>\n",
       "      <td>1</td>\n",
       "      <td>1</td>\n",
       "      <td>1</td>\n",
       "      <td>1</td>\n",
       "      <td>...</td>\n",
       "      <td>0</td>\n",
       "      <td>0</td>\n",
       "      <td>0</td>\n",
       "      <td>0</td>\n",
       "      <td>0</td>\n",
       "      <td>0</td>\n",
       "      <td>0</td>\n",
       "      <td>0</td>\n",
       "      <td>0</td>\n",
       "      <td>0</td>\n",
       "      <td>0</td>\n",
       "      <td>0</td>\n",
       "      <td>0</td>\n",
       "      <td>0</td>\n",
       "      <td>0</td>\n",
       "      <td>0</td>\n",
       "      <td>0</td>\n",
       "      <td>0</td>\n",
       "      <td>0</td>\n",
       "      <td>0</td>\n",
       "      <td>0</td>\n",
       "      <td>0</td>\n",
       "      <td>0</td>\n",
       "      <td>0</td>\n",
       "      <td>0</td>\n",
       "      <td>0</td>\n",
       "      <td>0</td>\n",
       "      <td>0</td>\n",
       "      <td>0</td>\n",
       "      <td>0</td>\n",
       "      <td>0</td>\n",
       "      <td>0</td>\n",
       "      <td>0</td>\n",
       "      <td>0</td>\n",
       "      <td>0</td>\n",
       "      <td>0</td>\n",
       "      <td>0</td>\n",
       "      <td>0</td>\n",
       "      <td>0</td>\n",
       "      <td>0</td>\n",
       "    </tr>\n",
       "    <tr>\n",
       "      <th>3</th>\n",
       "      <td>0</td>\n",
       "      <td>0</td>\n",
       "      <td>0</td>\n",
       "      <td>0</td>\n",
       "      <td>0</td>\n",
       "      <td>0</td>\n",
       "      <td>0</td>\n",
       "      <td>0</td>\n",
       "      <td>0</td>\n",
       "      <td>0</td>\n",
       "      <td>0</td>\n",
       "      <td>0</td>\n",
       "      <td>0</td>\n",
       "      <td>1</td>\n",
       "      <td>0</td>\n",
       "      <td>0</td>\n",
       "      <td>0</td>\n",
       "      <td>0</td>\n",
       "      <td>0</td>\n",
       "      <td>0</td>\n",
       "      <td>0</td>\n",
       "      <td>0</td>\n",
       "      <td>1</td>\n",
       "      <td>0</td>\n",
       "      <td>0</td>\n",
       "      <td>0</td>\n",
       "      <td>0</td>\n",
       "      <td>0</td>\n",
       "      <td>0</td>\n",
       "      <td>0</td>\n",
       "      <td>0</td>\n",
       "      <td>0</td>\n",
       "      <td>0</td>\n",
       "      <td>0</td>\n",
       "      <td>0</td>\n",
       "      <td>0</td>\n",
       "      <td>0</td>\n",
       "      <td>0</td>\n",
       "      <td>0</td>\n",
       "      <td>0</td>\n",
       "      <td>...</td>\n",
       "      <td>0</td>\n",
       "      <td>0</td>\n",
       "      <td>0</td>\n",
       "      <td>0</td>\n",
       "      <td>0</td>\n",
       "      <td>0</td>\n",
       "      <td>0</td>\n",
       "      <td>0</td>\n",
       "      <td>0</td>\n",
       "      <td>0</td>\n",
       "      <td>0</td>\n",
       "      <td>0</td>\n",
       "      <td>0</td>\n",
       "      <td>0</td>\n",
       "      <td>0</td>\n",
       "      <td>0</td>\n",
       "      <td>0</td>\n",
       "      <td>0</td>\n",
       "      <td>0</td>\n",
       "      <td>0</td>\n",
       "      <td>0</td>\n",
       "      <td>0</td>\n",
       "      <td>0</td>\n",
       "      <td>0</td>\n",
       "      <td>0</td>\n",
       "      <td>0</td>\n",
       "      <td>0</td>\n",
       "      <td>0</td>\n",
       "      <td>0</td>\n",
       "      <td>0</td>\n",
       "      <td>0</td>\n",
       "      <td>0</td>\n",
       "      <td>0</td>\n",
       "      <td>0</td>\n",
       "      <td>0</td>\n",
       "      <td>0</td>\n",
       "      <td>0</td>\n",
       "      <td>0</td>\n",
       "      <td>0</td>\n",
       "      <td>0</td>\n",
       "    </tr>\n",
       "    <tr>\n",
       "      <th>4</th>\n",
       "      <td>0</td>\n",
       "      <td>0</td>\n",
       "      <td>0</td>\n",
       "      <td>0</td>\n",
       "      <td>0</td>\n",
       "      <td>0</td>\n",
       "      <td>0</td>\n",
       "      <td>0</td>\n",
       "      <td>0</td>\n",
       "      <td>0</td>\n",
       "      <td>0</td>\n",
       "      <td>0</td>\n",
       "      <td>0</td>\n",
       "      <td>0</td>\n",
       "      <td>0</td>\n",
       "      <td>0</td>\n",
       "      <td>0</td>\n",
       "      <td>0</td>\n",
       "      <td>0</td>\n",
       "      <td>0</td>\n",
       "      <td>0</td>\n",
       "      <td>0</td>\n",
       "      <td>0</td>\n",
       "      <td>0</td>\n",
       "      <td>0</td>\n",
       "      <td>0</td>\n",
       "      <td>0</td>\n",
       "      <td>0</td>\n",
       "      <td>0</td>\n",
       "      <td>0</td>\n",
       "      <td>0</td>\n",
       "      <td>0</td>\n",
       "      <td>0</td>\n",
       "      <td>0</td>\n",
       "      <td>0</td>\n",
       "      <td>0</td>\n",
       "      <td>0</td>\n",
       "      <td>0</td>\n",
       "      <td>0</td>\n",
       "      <td>0</td>\n",
       "      <td>...</td>\n",
       "      <td>0</td>\n",
       "      <td>0</td>\n",
       "      <td>0</td>\n",
       "      <td>0</td>\n",
       "      <td>0</td>\n",
       "      <td>0</td>\n",
       "      <td>0</td>\n",
       "      <td>0</td>\n",
       "      <td>0</td>\n",
       "      <td>0</td>\n",
       "      <td>0</td>\n",
       "      <td>0</td>\n",
       "      <td>0</td>\n",
       "      <td>0</td>\n",
       "      <td>0</td>\n",
       "      <td>0</td>\n",
       "      <td>0</td>\n",
       "      <td>0</td>\n",
       "      <td>0</td>\n",
       "      <td>0</td>\n",
       "      <td>0</td>\n",
       "      <td>0</td>\n",
       "      <td>0</td>\n",
       "      <td>0</td>\n",
       "      <td>0</td>\n",
       "      <td>0</td>\n",
       "      <td>0</td>\n",
       "      <td>0</td>\n",
       "      <td>0</td>\n",
       "      <td>0</td>\n",
       "      <td>0</td>\n",
       "      <td>0</td>\n",
       "      <td>0</td>\n",
       "      <td>0</td>\n",
       "      <td>0</td>\n",
       "      <td>0</td>\n",
       "      <td>0</td>\n",
       "      <td>0</td>\n",
       "      <td>0</td>\n",
       "      <td>0</td>\n",
       "    </tr>\n",
       "    <tr>\n",
       "      <th>...</th>\n",
       "      <td>...</td>\n",
       "      <td>...</td>\n",
       "      <td>...</td>\n",
       "      <td>...</td>\n",
       "      <td>...</td>\n",
       "      <td>...</td>\n",
       "      <td>...</td>\n",
       "      <td>...</td>\n",
       "      <td>...</td>\n",
       "      <td>...</td>\n",
       "      <td>...</td>\n",
       "      <td>...</td>\n",
       "      <td>...</td>\n",
       "      <td>...</td>\n",
       "      <td>...</td>\n",
       "      <td>...</td>\n",
       "      <td>...</td>\n",
       "      <td>...</td>\n",
       "      <td>...</td>\n",
       "      <td>...</td>\n",
       "      <td>...</td>\n",
       "      <td>...</td>\n",
       "      <td>...</td>\n",
       "      <td>...</td>\n",
       "      <td>...</td>\n",
       "      <td>...</td>\n",
       "      <td>...</td>\n",
       "      <td>...</td>\n",
       "      <td>...</td>\n",
       "      <td>...</td>\n",
       "      <td>...</td>\n",
       "      <td>...</td>\n",
       "      <td>...</td>\n",
       "      <td>...</td>\n",
       "      <td>...</td>\n",
       "      <td>...</td>\n",
       "      <td>...</td>\n",
       "      <td>...</td>\n",
       "      <td>...</td>\n",
       "      <td>...</td>\n",
       "      <td>...</td>\n",
       "      <td>...</td>\n",
       "      <td>...</td>\n",
       "      <td>...</td>\n",
       "      <td>...</td>\n",
       "      <td>...</td>\n",
       "      <td>...</td>\n",
       "      <td>...</td>\n",
       "      <td>...</td>\n",
       "      <td>...</td>\n",
       "      <td>...</td>\n",
       "      <td>...</td>\n",
       "      <td>...</td>\n",
       "      <td>...</td>\n",
       "      <td>...</td>\n",
       "      <td>...</td>\n",
       "      <td>...</td>\n",
       "      <td>...</td>\n",
       "      <td>...</td>\n",
       "      <td>...</td>\n",
       "      <td>...</td>\n",
       "      <td>...</td>\n",
       "      <td>...</td>\n",
       "      <td>...</td>\n",
       "      <td>...</td>\n",
       "      <td>...</td>\n",
       "      <td>...</td>\n",
       "      <td>...</td>\n",
       "      <td>...</td>\n",
       "      <td>...</td>\n",
       "      <td>...</td>\n",
       "      <td>...</td>\n",
       "      <td>...</td>\n",
       "      <td>...</td>\n",
       "      <td>...</td>\n",
       "      <td>...</td>\n",
       "      <td>...</td>\n",
       "      <td>...</td>\n",
       "      <td>...</td>\n",
       "      <td>...</td>\n",
       "      <td>...</td>\n",
       "    </tr>\n",
       "    <tr>\n",
       "      <th>9844</th>\n",
       "      <td>0</td>\n",
       "      <td>1</td>\n",
       "      <td>0</td>\n",
       "      <td>0</td>\n",
       "      <td>0</td>\n",
       "      <td>0</td>\n",
       "      <td>0</td>\n",
       "      <td>0</td>\n",
       "      <td>0</td>\n",
       "      <td>0</td>\n",
       "      <td>0</td>\n",
       "      <td>1</td>\n",
       "      <td>0</td>\n",
       "      <td>0</td>\n",
       "      <td>1</td>\n",
       "      <td>0</td>\n",
       "      <td>0</td>\n",
       "      <td>0</td>\n",
       "      <td>0</td>\n",
       "      <td>0</td>\n",
       "      <td>0</td>\n",
       "      <td>0</td>\n",
       "      <td>0</td>\n",
       "      <td>0</td>\n",
       "      <td>0</td>\n",
       "      <td>0</td>\n",
       "      <td>0</td>\n",
       "      <td>0</td>\n",
       "      <td>0</td>\n",
       "      <td>0</td>\n",
       "      <td>0</td>\n",
       "      <td>0</td>\n",
       "      <td>1</td>\n",
       "      <td>0</td>\n",
       "      <td>0</td>\n",
       "      <td>0</td>\n",
       "      <td>0</td>\n",
       "      <td>0</td>\n",
       "      <td>0</td>\n",
       "      <td>0</td>\n",
       "      <td>...</td>\n",
       "      <td>0</td>\n",
       "      <td>0</td>\n",
       "      <td>0</td>\n",
       "      <td>0</td>\n",
       "      <td>0</td>\n",
       "      <td>0</td>\n",
       "      <td>0</td>\n",
       "      <td>0</td>\n",
       "      <td>0</td>\n",
       "      <td>0</td>\n",
       "      <td>0</td>\n",
       "      <td>0</td>\n",
       "      <td>0</td>\n",
       "      <td>0</td>\n",
       "      <td>0</td>\n",
       "      <td>0</td>\n",
       "      <td>0</td>\n",
       "      <td>0</td>\n",
       "      <td>0</td>\n",
       "      <td>0</td>\n",
       "      <td>0</td>\n",
       "      <td>0</td>\n",
       "      <td>0</td>\n",
       "      <td>0</td>\n",
       "      <td>0</td>\n",
       "      <td>0</td>\n",
       "      <td>0</td>\n",
       "      <td>0</td>\n",
       "      <td>0</td>\n",
       "      <td>0</td>\n",
       "      <td>0</td>\n",
       "      <td>0</td>\n",
       "      <td>0</td>\n",
       "      <td>0</td>\n",
       "      <td>0</td>\n",
       "      <td>0</td>\n",
       "      <td>0</td>\n",
       "      <td>0</td>\n",
       "      <td>0</td>\n",
       "      <td>0</td>\n",
       "    </tr>\n",
       "    <tr>\n",
       "      <th>9845</th>\n",
       "      <td>0</td>\n",
       "      <td>0</td>\n",
       "      <td>0</td>\n",
       "      <td>0</td>\n",
       "      <td>0</td>\n",
       "      <td>0</td>\n",
       "      <td>0</td>\n",
       "      <td>0</td>\n",
       "      <td>0</td>\n",
       "      <td>0</td>\n",
       "      <td>0</td>\n",
       "      <td>0</td>\n",
       "      <td>0</td>\n",
       "      <td>0</td>\n",
       "      <td>1</td>\n",
       "      <td>0</td>\n",
       "      <td>0</td>\n",
       "      <td>0</td>\n",
       "      <td>0</td>\n",
       "      <td>0</td>\n",
       "      <td>0</td>\n",
       "      <td>0</td>\n",
       "      <td>0</td>\n",
       "      <td>0</td>\n",
       "      <td>0</td>\n",
       "      <td>0</td>\n",
       "      <td>0</td>\n",
       "      <td>0</td>\n",
       "      <td>0</td>\n",
       "      <td>0</td>\n",
       "      <td>0</td>\n",
       "      <td>0</td>\n",
       "      <td>0</td>\n",
       "      <td>0</td>\n",
       "      <td>0</td>\n",
       "      <td>0</td>\n",
       "      <td>0</td>\n",
       "      <td>0</td>\n",
       "      <td>0</td>\n",
       "      <td>0</td>\n",
       "      <td>...</td>\n",
       "      <td>0</td>\n",
       "      <td>0</td>\n",
       "      <td>0</td>\n",
       "      <td>0</td>\n",
       "      <td>0</td>\n",
       "      <td>0</td>\n",
       "      <td>0</td>\n",
       "      <td>0</td>\n",
       "      <td>0</td>\n",
       "      <td>0</td>\n",
       "      <td>0</td>\n",
       "      <td>0</td>\n",
       "      <td>0</td>\n",
       "      <td>0</td>\n",
       "      <td>0</td>\n",
       "      <td>0</td>\n",
       "      <td>0</td>\n",
       "      <td>0</td>\n",
       "      <td>0</td>\n",
       "      <td>0</td>\n",
       "      <td>0</td>\n",
       "      <td>0</td>\n",
       "      <td>0</td>\n",
       "      <td>0</td>\n",
       "      <td>0</td>\n",
       "      <td>0</td>\n",
       "      <td>0</td>\n",
       "      <td>0</td>\n",
       "      <td>0</td>\n",
       "      <td>0</td>\n",
       "      <td>0</td>\n",
       "      <td>0</td>\n",
       "      <td>0</td>\n",
       "      <td>0</td>\n",
       "      <td>0</td>\n",
       "      <td>0</td>\n",
       "      <td>0</td>\n",
       "      <td>0</td>\n",
       "      <td>0</td>\n",
       "      <td>0</td>\n",
       "    </tr>\n",
       "    <tr>\n",
       "      <th>9846</th>\n",
       "      <td>0</td>\n",
       "      <td>0</td>\n",
       "      <td>0</td>\n",
       "      <td>0</td>\n",
       "      <td>0</td>\n",
       "      <td>0</td>\n",
       "      <td>0</td>\n",
       "      <td>1</td>\n",
       "      <td>0</td>\n",
       "      <td>0</td>\n",
       "      <td>0</td>\n",
       "      <td>0</td>\n",
       "      <td>0</td>\n",
       "      <td>0</td>\n",
       "      <td>0</td>\n",
       "      <td>0</td>\n",
       "      <td>0</td>\n",
       "      <td>0</td>\n",
       "      <td>0</td>\n",
       "      <td>0</td>\n",
       "      <td>0</td>\n",
       "      <td>0</td>\n",
       "      <td>0</td>\n",
       "      <td>0</td>\n",
       "      <td>0</td>\n",
       "      <td>0</td>\n",
       "      <td>0</td>\n",
       "      <td>0</td>\n",
       "      <td>0</td>\n",
       "      <td>0</td>\n",
       "      <td>0</td>\n",
       "      <td>0</td>\n",
       "      <td>0</td>\n",
       "      <td>1</td>\n",
       "      <td>0</td>\n",
       "      <td>0</td>\n",
       "      <td>0</td>\n",
       "      <td>0</td>\n",
       "      <td>0</td>\n",
       "      <td>0</td>\n",
       "      <td>...</td>\n",
       "      <td>0</td>\n",
       "      <td>0</td>\n",
       "      <td>0</td>\n",
       "      <td>0</td>\n",
       "      <td>0</td>\n",
       "      <td>0</td>\n",
       "      <td>0</td>\n",
       "      <td>0</td>\n",
       "      <td>0</td>\n",
       "      <td>0</td>\n",
       "      <td>0</td>\n",
       "      <td>0</td>\n",
       "      <td>0</td>\n",
       "      <td>0</td>\n",
       "      <td>0</td>\n",
       "      <td>0</td>\n",
       "      <td>0</td>\n",
       "      <td>0</td>\n",
       "      <td>0</td>\n",
       "      <td>0</td>\n",
       "      <td>0</td>\n",
       "      <td>0</td>\n",
       "      <td>0</td>\n",
       "      <td>0</td>\n",
       "      <td>0</td>\n",
       "      <td>0</td>\n",
       "      <td>0</td>\n",
       "      <td>0</td>\n",
       "      <td>0</td>\n",
       "      <td>0</td>\n",
       "      <td>0</td>\n",
       "      <td>0</td>\n",
       "      <td>0</td>\n",
       "      <td>0</td>\n",
       "      <td>0</td>\n",
       "      <td>0</td>\n",
       "      <td>0</td>\n",
       "      <td>0</td>\n",
       "      <td>0</td>\n",
       "      <td>0</td>\n",
       "    </tr>\n",
       "    <tr>\n",
       "      <th>9847</th>\n",
       "      <td>0</td>\n",
       "      <td>0</td>\n",
       "      <td>0</td>\n",
       "      <td>1</td>\n",
       "      <td>1</td>\n",
       "      <td>0</td>\n",
       "      <td>0</td>\n",
       "      <td>0</td>\n",
       "      <td>1</td>\n",
       "      <td>0</td>\n",
       "      <td>1</td>\n",
       "      <td>0</td>\n",
       "      <td>0</td>\n",
       "      <td>0</td>\n",
       "      <td>0</td>\n",
       "      <td>0</td>\n",
       "      <td>0</td>\n",
       "      <td>0</td>\n",
       "      <td>0</td>\n",
       "      <td>0</td>\n",
       "      <td>0</td>\n",
       "      <td>0</td>\n",
       "      <td>0</td>\n",
       "      <td>0</td>\n",
       "      <td>0</td>\n",
       "      <td>0</td>\n",
       "      <td>0</td>\n",
       "      <td>0</td>\n",
       "      <td>0</td>\n",
       "      <td>0</td>\n",
       "      <td>0</td>\n",
       "      <td>0</td>\n",
       "      <td>1</td>\n",
       "      <td>0</td>\n",
       "      <td>0</td>\n",
       "      <td>0</td>\n",
       "      <td>0</td>\n",
       "      <td>0</td>\n",
       "      <td>0</td>\n",
       "      <td>0</td>\n",
       "      <td>...</td>\n",
       "      <td>0</td>\n",
       "      <td>0</td>\n",
       "      <td>0</td>\n",
       "      <td>0</td>\n",
       "      <td>0</td>\n",
       "      <td>0</td>\n",
       "      <td>0</td>\n",
       "      <td>0</td>\n",
       "      <td>0</td>\n",
       "      <td>0</td>\n",
       "      <td>0</td>\n",
       "      <td>0</td>\n",
       "      <td>0</td>\n",
       "      <td>0</td>\n",
       "      <td>0</td>\n",
       "      <td>0</td>\n",
       "      <td>0</td>\n",
       "      <td>0</td>\n",
       "      <td>0</td>\n",
       "      <td>0</td>\n",
       "      <td>0</td>\n",
       "      <td>0</td>\n",
       "      <td>0</td>\n",
       "      <td>0</td>\n",
       "      <td>0</td>\n",
       "      <td>0</td>\n",
       "      <td>0</td>\n",
       "      <td>0</td>\n",
       "      <td>0</td>\n",
       "      <td>0</td>\n",
       "      <td>0</td>\n",
       "      <td>0</td>\n",
       "      <td>0</td>\n",
       "      <td>0</td>\n",
       "      <td>0</td>\n",
       "      <td>0</td>\n",
       "      <td>0</td>\n",
       "      <td>0</td>\n",
       "      <td>0</td>\n",
       "      <td>0</td>\n",
       "    </tr>\n",
       "    <tr>\n",
       "      <th>9848</th>\n",
       "      <td>0</td>\n",
       "      <td>0</td>\n",
       "      <td>0</td>\n",
       "      <td>0</td>\n",
       "      <td>0</td>\n",
       "      <td>0</td>\n",
       "      <td>0</td>\n",
       "      <td>0</td>\n",
       "      <td>0</td>\n",
       "      <td>0</td>\n",
       "      <td>0</td>\n",
       "      <td>0</td>\n",
       "      <td>0</td>\n",
       "      <td>0</td>\n",
       "      <td>0</td>\n",
       "      <td>0</td>\n",
       "      <td>0</td>\n",
       "      <td>0</td>\n",
       "      <td>0</td>\n",
       "      <td>0</td>\n",
       "      <td>0</td>\n",
       "      <td>0</td>\n",
       "      <td>1</td>\n",
       "      <td>0</td>\n",
       "      <td>0</td>\n",
       "      <td>0</td>\n",
       "      <td>0</td>\n",
       "      <td>0</td>\n",
       "      <td>0</td>\n",
       "      <td>0</td>\n",
       "      <td>0</td>\n",
       "      <td>0</td>\n",
       "      <td>1</td>\n",
       "      <td>0</td>\n",
       "      <td>0</td>\n",
       "      <td>0</td>\n",
       "      <td>0</td>\n",
       "      <td>0</td>\n",
       "      <td>0</td>\n",
       "      <td>2</td>\n",
       "      <td>...</td>\n",
       "      <td>0</td>\n",
       "      <td>0</td>\n",
       "      <td>0</td>\n",
       "      <td>0</td>\n",
       "      <td>0</td>\n",
       "      <td>0</td>\n",
       "      <td>0</td>\n",
       "      <td>0</td>\n",
       "      <td>0</td>\n",
       "      <td>0</td>\n",
       "      <td>0</td>\n",
       "      <td>0</td>\n",
       "      <td>0</td>\n",
       "      <td>0</td>\n",
       "      <td>0</td>\n",
       "      <td>0</td>\n",
       "      <td>0</td>\n",
       "      <td>0</td>\n",
       "      <td>0</td>\n",
       "      <td>0</td>\n",
       "      <td>0</td>\n",
       "      <td>0</td>\n",
       "      <td>0</td>\n",
       "      <td>0</td>\n",
       "      <td>0</td>\n",
       "      <td>0</td>\n",
       "      <td>0</td>\n",
       "      <td>0</td>\n",
       "      <td>0</td>\n",
       "      <td>0</td>\n",
       "      <td>0</td>\n",
       "      <td>0</td>\n",
       "      <td>0</td>\n",
       "      <td>0</td>\n",
       "      <td>0</td>\n",
       "      <td>0</td>\n",
       "      <td>0</td>\n",
       "      <td>0</td>\n",
       "      <td>0</td>\n",
       "      <td>0</td>\n",
       "    </tr>\n",
       "  </tbody>\n",
       "</table>\n",
       "<p>9849 rows × 6323 columns</p>\n",
       "</div>"
      ],
      "text/plain": [
       "      màu_son  đánh  nhạt  lên  môi  mình  ...  dongd  líp  a9  sánh  bới  điệp\n",
       "0           0     1     1    1    1     1  ...      0    0   0     0    0     0\n",
       "1           0     0     0    0    0     0  ...      0    0   0     0    0     0\n",
       "2           0     0     0    0    0     0  ...      0    0   0     0    0     0\n",
       "3           0     0     0    0    0     0  ...      0    0   0     0    0     0\n",
       "4           0     0     0    0    0     0  ...      0    0   0     0    0     0\n",
       "...       ...   ...   ...  ...  ...   ...  ...    ...  ...  ..   ...  ...   ...\n",
       "9844        0     1     0    0    0     0  ...      0    0   0     0    0     0\n",
       "9845        0     0     0    0    0     0  ...      0    0   0     0    0     0\n",
       "9846        0     0     0    0    0     0  ...      0    0   0     0    0     0\n",
       "9847        0     0     0    1    1     0  ...      0    0   0     0    0     0\n",
       "9848        0     0     0    0    0     0  ...      0    0   0     0    0     0\n",
       "\n",
       "[9849 rows x 6323 columns]"
      ]
     },
     "execution_count": 28,
     "metadata": {
      "tags": []
     },
     "output_type": "execute_result"
    }
   ],
   "source": [
    "pd.DataFrame(X_train, columns=words)"
   ]
  },
  {
   "cell_type": "code",
   "execution_count": 29,
   "metadata": {
    "colab": {
     "base_uri": "https://localhost:8080/"
    },
    "id": "3d9U6c8NgF8x",
    "outputId": "af5ffe0b-b7c9-46f4-f5f7-7201f15d1d36"
   },
   "outputs": [
    {
     "data": {
      "text/plain": [
       "6323"
      ]
     },
     "execution_count": 29,
     "metadata": {
      "tags": []
     },
     "output_type": "execute_result"
    }
   ],
   "source": [
    "len(cv.vocabulary_)"
   ]
  },
  {
   "cell_type": "markdown",
   "metadata": {
    "id": "NGLKi774coh2"
   },
   "source": [
    "### all_data:"
   ]
  },
  {
   "cell_type": "code",
   "execution_count": 30,
   "metadata": {
    "id": "X2c_sht5crKA"
   },
   "outputs": [],
   "source": [
    "comments = cv.transform(comments)"
   ]
  },
  {
   "cell_type": "markdown",
   "metadata": {
    "id": "XKsPFevYSeX7"
   },
   "source": [
    "#Training Models and Use each one to predict val and test"
   ]
  },
  {
   "cell_type": "markdown",
   "metadata": {
    "id": "zx7LlLfjnpyX"
   },
   "source": [
    "##Naive Bayes model:"
   ]
  },
  {
   "cell_type": "code",
   "execution_count": null,
   "metadata": {
    "colab": {
     "base_uri": "https://localhost:8080/"
    },
    "id": "aaTRLZosnlZ8",
    "outputId": "0a0298bf-07ba-4e09-cc2e-a99b2eb84686"
   },
   "outputs": [
    {
     "data": {
      "text/plain": [
       "MultinomialNB(alpha=1.0, class_prior=None, fit_prior=True)"
      ]
     },
     "execution_count": 32,
     "metadata": {
      "tags": []
     },
     "output_type": "execute_result"
    }
   ],
   "source": [
    "naive_bayes_model = MultinomialNB()\n",
    "naive_bayes_model.fit(X_train, y_train)"
   ]
  },
  {
   "cell_type": "markdown",
   "metadata": {
    "id": "lRDdfQEqZq2a"
   },
   "source": [
    "### on val:"
   ]
  },
  {
   "cell_type": "code",
   "execution_count": null,
   "metadata": {
    "id": "TCanZqjsYEbA"
   },
   "outputs": [],
   "source": [
    "naive_bayes_pred_on_val = naive_bayes_model.predict(X_val)"
   ]
  },
  {
   "cell_type": "code",
   "execution_count": null,
   "metadata": {
    "colab": {
     "base_uri": "https://localhost:8080/"
    },
    "id": "pNh9BFF_Zs8t",
    "outputId": "abab2979-6f9d-4327-e4ad-21688ea23e97"
   },
   "outputs": [
    {
     "name": "stdout",
     "output_type": "stream",
     "text": [
      "              precision    recall  f1-score   support\n",
      "\n",
      "         0.0       0.91      0.96      0.93       901\n",
      "         1.0       0.82      0.80      0.81       270\n",
      "         2.0       0.43      0.25      0.32        96\n",
      "\n",
      "    accuracy                           0.87      1267\n",
      "   macro avg       0.72      0.67      0.69      1267\n",
      "weighted avg       0.85      0.87      0.86      1267\n",
      "\n"
     ]
    }
   ],
   "source": [
    "print(classification_report(y_val, naive_bayes_model.predict(X_val)))"
   ]
  },
  {
   "cell_type": "code",
   "execution_count": null,
   "metadata": {
    "colab": {
     "base_uri": "https://localhost:8080/"
    },
    "id": "5-qstOcEe39O",
    "outputId": "59ac7c27-774c-4654-ca27-63cb8d0c8c9d"
   },
   "outputs": [
    {
     "name": "stdout",
     "output_type": "stream",
     "text": [
      "f1 score: 0.6865\n"
     ]
    }
   ],
   "source": [
    "from sklearn.metrics import f1_score\n",
    "print('f1 score: {:.4f}'.format(f1_score(y_val, naive_bayes_model.predict(X_val), average='macro')))"
   ]
  },
  {
   "cell_type": "code",
   "execution_count": null,
   "metadata": {
    "colab": {
     "base_uri": "https://localhost:8080/",
     "height": 265
    },
    "id": "2aPmdyPVZtBF",
    "outputId": "e718d5a4-0d29-44ef-f1d3-e30dd0817495"
   },
   "outputs": [
    {
     "data": {
      "image/png": "[encoded data removed]",
      "text/plain": [
       "<Figure size 432x288 with 2 Axes>"
      ]
     },
     "metadata": {
      "needs_background": "light",
      "tags": []
     },
     "output_type": "display_data"
    }
   ],
   "source": [
    "cm = confusion_matrix(y_val, naive_bayes_model.predict(X_val))\n",
    "sns.heatmap(cm, annot=True, fmt=\"d\", cmap=\"YlGnBu\");"
   ]
  },
  {
   "cell_type": "markdown",
   "metadata": {
    "id": "5LIXfDTnZjSn"
   },
   "source": [
    "### on test:"
   ]
  },
  {
   "cell_type": "code",
   "execution_count": null,
   "metadata": {
    "id": "TWx_GnTqYS7P"
   },
   "outputs": [],
   "source": [
    "naive_bayes_pred_on_test = naive_bayes_model.predict(X_test)"
   ]
  },
  {
   "cell_type": "code",
   "execution_count": null,
   "metadata": {
    "colab": {
     "base_uri": "https://localhost:8080/"
    },
    "id": "HxriGCtYkY9V",
    "outputId": "4bd0abb0-3b36-4ba4-f3a9-48c1708f33cb"
   },
   "outputs": [
    {
     "name": "stdout",
     "output_type": "stream",
     "text": [
      "f1 score: 0.6363\n"
     ]
    }
   ],
   "source": [
    "from sklearn.metrics import f1_score\n",
    "print('f1 score: {:.4f}'.format(f1_score(y_test, naive_bayes_model.predict(X_test), average='macro')))"
   ]
  },
  {
   "cell_type": "code",
   "execution_count": null,
   "metadata": {
    "colab": {
     "base_uri": "https://localhost:8080/"
    },
    "id": "qVsI1tbQnH_i",
    "outputId": "44affc13-3df1-4626-efab-e8eaf02ef1ba"
   },
   "outputs": [
    {
     "name": "stdout",
     "output_type": "stream",
     "text": [
      "              precision    recall  f1-score   support\n",
      "\n",
      "         0.0       0.91      0.93      0.92       921\n",
      "         1.0       0.73      0.79      0.76       253\n",
      "         2.0       0.31      0.18      0.23        93\n",
      "\n",
      "    accuracy                           0.85      1267\n",
      "   macro avg       0.65      0.63      0.64      1267\n",
      "weighted avg       0.83      0.85      0.84      1267\n",
      "\n"
     ]
    }
   ],
   "source": [
    "print(classification_report(y_test, naive_bayes_model.predict(X_test)))"
   ]
  },
  {
   "cell_type": "code",
   "execution_count": null,
   "metadata": {
    "colab": {
     "base_uri": "https://localhost:8080/",
     "height": 265
    },
    "id": "N03ZMpHyqJec",
    "outputId": "88c36373-f4a6-4802-8789-74d02b172dc5"
   },
   "outputs": [
    {
     "data": {
      "image/png": "[encoded data removed]",
      "text/plain": [
       "<Figure size 432x288 with 2 Axes>"
      ]
     },
     "metadata": {
      "needs_background": "light",
      "tags": []
     },
     "output_type": "display_data"
    }
   ],
   "source": [
    "cm = confusion_matrix(y_test, naive_bayes_model.predict(X_test))\n",
    "sns.heatmap(cm, annot=True, fmt=\"d\", cmap=\"YlGnBu\");"
   ]
  },
  {
   "cell_type": "markdown",
   "metadata": {
    "id": "ev2vjxMaV7pI"
   },
   "source": [
    "##Random Forest:"
   ]
  },
  {
   "cell_type": "code",
   "execution_count": null,
   "metadata": {
    "colab": {
     "base_uri": "https://localhost:8080/"
    },
    "id": "cEuiVopzWBBh",
    "outputId": "40599b8d-ecf2-4e2c-8e27-4c06db98a482"
   },
   "outputs": [
    {
     "data": {
      "text/plain": [
       "RandomForestClassifier(bootstrap=True, ccp_alpha=0.0, class_weight='balanced',\n",
       "                       criterion='gini', max_depth=None, max_features='auto',\n",
       "                       max_leaf_nodes=None, max_samples=None,\n",
       "                       min_impurity_decrease=0.0, min_impurity_split=None,\n",
       "                       min_samples_leaf=1, min_samples_split=2,\n",
       "                       min_weight_fraction_leaf=0.0, n_estimators=100,\n",
       "                       n_jobs=None, oob_score=False, random_state=None,\n",
       "                       verbose=0, warm_start=False)"
      ]
     },
     "execution_count": 41,
     "metadata": {
      "tags": []
     },
     "output_type": "execute_result"
    }
   ],
   "source": [
    "random_forest_model = RandomForestClassifier(class_weight='balanced')\n",
    "random_forest_model.fit(X_train, y_train)"
   ]
  },
  {
   "cell_type": "markdown",
   "metadata": {
    "id": "evg_ejlrZ9VD"
   },
   "source": [
    "### on val:"
   ]
  },
  {
   "cell_type": "code",
   "execution_count": null,
   "metadata": {
    "id": "FxmTrcIaYaL_"
   },
   "outputs": [],
   "source": [
    "random_forest_pred_on_val = random_forest_model.predict(X_val)"
   ]
  },
  {
   "cell_type": "code",
   "execution_count": null,
   "metadata": {
    "colab": {
     "base_uri": "https://localhost:8080/"
    },
    "id": "kGAxni0FktUg",
    "outputId": "b18a3068-9aba-4d23-8341-9a76a40ce714"
   },
   "outputs": [
    {
     "name": "stdout",
     "output_type": "stream",
     "text": [
      "f1 score: 0.6687\n"
     ]
    }
   ],
   "source": [
    "from sklearn.metrics import f1_score\n",
    "print('f1 score: {:.4f}'.format(f1_score(y_val, random_forest_model.predict(X_val), average='macro')))"
   ]
  },
  {
   "cell_type": "code",
   "execution_count": null,
   "metadata": {
    "colab": {
     "base_uri": "https://localhost:8080/"
    },
    "id": "8U3xXsLwZ9VF",
    "outputId": "692839b4-88cb-4cc6-dcf9-ec206ce49271"
   },
   "outputs": [
    {
     "name": "stdout",
     "output_type": "stream",
     "text": [
      "              precision    recall  f1-score   support\n",
      "\n",
      "         0.0       0.88      0.99      0.93       901\n",
      "         1.0       0.88      0.78      0.83       270\n",
      "         2.0       0.78      0.15      0.25        96\n",
      "\n",
      "    accuracy                           0.88      1267\n",
      "   macro avg       0.85      0.64      0.67      1267\n",
      "weighted avg       0.87      0.88      0.86      1267\n",
      "\n"
     ]
    }
   ],
   "source": [
    "print(classification_report(y_val, random_forest_model.predict(X_val)))"
   ]
  },
  {
   "cell_type": "code",
   "execution_count": null,
   "metadata": {
    "colab": {
     "base_uri": "https://localhost:8080/",
     "height": 265
    },
    "id": "qaZRsCpQZ9VH",
    "outputId": "fe708412-89af-4cdd-a0b8-a655fd4fc439"
   },
   "outputs": [
    {
     "data": {
      "image/png": "[encoded data removed]",
      "text/plain": [
       "<Figure size 432x288 with 2 Axes>"
      ]
     },
     "metadata": {
      "needs_background": "light",
      "tags": []
     },
     "output_type": "display_data"
    }
   ],
   "source": [
    "cm = confusion_matrix(y_val, random_forest_model.predict(X_val))\n",
    "sns.heatmap(cm, annot=True, fmt=\"d\", cmap=\"YlGnBu\");"
   ]
  },
  {
   "cell_type": "markdown",
   "metadata": {
    "id": "NN9d89cCZ-kY"
   },
   "source": [
    "### on test:"
   ]
  },
  {
   "cell_type": "code",
   "execution_count": null,
   "metadata": {
    "id": "bAHTYXtWZUMF"
   },
   "outputs": [],
   "source": [
    "random_forest_pred_on_test = random_forest_model.predict(X_test)"
   ]
  },
  {
   "cell_type": "code",
   "execution_count": null,
   "metadata": {
    "colab": {
     "base_uri": "https://localhost:8080/"
    },
    "id": "_rlwGGG6lBOp",
    "outputId": "0b9e06e2-4796-486d-fb95-e2a816500bb3"
   },
   "outputs": [
    {
     "name": "stdout",
     "output_type": "stream",
     "text": [
      "f1 score: 0.6587\n"
     ]
    }
   ],
   "source": [
    "from sklearn.metrics import f1_score\n",
    "print('f1 score: {:.4f}'.format(f1_score(y_test, random_forest_model.predict(X_test), average='macro')))"
   ]
  },
  {
   "cell_type": "code",
   "execution_count": null,
   "metadata": {
    "colab": {
     "base_uri": "https://localhost:8080/"
    },
    "id": "bDa6c2irWBIA",
    "outputId": "6af39866-5ef5-483b-be1e-3e529b8e3803"
   },
   "outputs": [
    {
     "name": "stdout",
     "output_type": "stream",
     "text": [
      "              precision    recall  f1-score   support\n",
      "\n",
      "         0.0       0.89      0.98      0.93       921\n",
      "         1.0       0.87      0.79      0.82       253\n",
      "         2.0       0.75      0.13      0.22        93\n",
      "\n",
      "    accuracy                           0.88      1267\n",
      "   macro avg       0.83      0.63      0.66      1267\n",
      "weighted avg       0.87      0.88      0.86      1267\n",
      "\n"
     ]
    }
   ],
   "source": [
    "print(classification_report(y_test, random_forest_model.predict(X_test)))"
   ]
  },
  {
   "cell_type": "code",
   "execution_count": null,
   "metadata": {
    "colab": {
     "base_uri": "https://localhost:8080/",
     "height": 265
    },
    "id": "mNaNMH9XiVgM",
    "outputId": "8f8e1a20-f0c4-4e1b-ce1f-1fb1478b0ad5"
   },
   "outputs": [
    {
     "data": {
      "image/png": "[encoded data removed]",
      "text/plain": [
       "<Figure size 432x288 with 2 Axes>"
      ]
     },
     "metadata": {
      "needs_background": "light",
      "tags": []
     },
     "output_type": "display_data"
    }
   ],
   "source": [
    "cm = confusion_matrix(y_test, random_forest_model.predict(X_test))\n",
    "sns.heatmap(cm, annot=True, fmt=\"d\", cmap=\"YlGnBu\");"
   ]
  },
  {
   "cell_type": "markdown",
   "metadata": {
    "id": "wvUtvxJRpJNY"
   },
   "source": [
    "## Logistic Regression"
   ]
  },
  {
   "cell_type": "code",
   "execution_count": null,
   "metadata": {
    "colab": {
     "base_uri": "https://localhost:8080/"
    },
    "id": "-HOoBaYdpMoS",
    "outputId": "bb1bb2e2-7ae9-4775-d1e6-bbd7f94021cf"
   },
   "outputs": [
    {
     "name": "stderr",
     "output_type": "stream",
     "text": [
      "/usr/local/lib/python3.6/dist-packages/sklearn/linear_model/_logistic.py:940: ConvergenceWarning: lbfgs failed to converge (status=1):\n",
      "STOP: TOTAL NO. of ITERATIONS REACHED LIMIT.\n",
      "\n",
      "Increase the number of iterations (max_iter) or scale the data as shown in:\n",
      "    https://scikit-learn.org/stable/modules/preprocessing.html\n",
      "Please also refer to the documentation for alternative solver options:\n",
      "    https://scikit-learn.org/stable/modules/linear_model.html#logistic-regression\n",
      "  extra_warning_msg=_LOGISTIC_SOLVER_CONVERGENCE_MSG)\n"
     ]
    },
    {
     "data": {
      "text/plain": [
       "LogisticRegression(C=1.0, class_weight='balanced', dual=False,\n",
       "                   fit_intercept=True, intercept_scaling=1, l1_ratio=None,\n",
       "                   max_iter=100, multi_class='auto', n_jobs=None, penalty='l2',\n",
       "                   random_state=None, solver='lbfgs', tol=0.0001, verbose=0,\n",
       "                   warm_start=True)"
      ]
     },
     "execution_count": 50,
     "metadata": {
      "tags": []
     },
     "output_type": "execute_result"
    }
   ],
   "source": [
    "\n",
    "log_model = LogisticRegression(class_weight='balanced', warm_start=True)\n",
    "log_model.fit(X_train, y_train)"
   ]
  },
  {
   "cell_type": "markdown",
   "metadata": {
    "id": "TxUv5-xvppGe"
   },
   "source": [
    "### on val:"
   ]
  },
  {
   "cell_type": "code",
   "execution_count": null,
   "metadata": {
    "id": "a5z9n8i6b-_R"
   },
   "outputs": [],
   "source": [
    "log_reg_pred_on_val = log_model.predict(X_val)"
   ]
  },
  {
   "cell_type": "code",
   "execution_count": null,
   "metadata": {
    "colab": {
     "base_uri": "https://localhost:8080/"
    },
    "id": "oKuyiKNTlJql",
    "outputId": "b0596725-25a2-4bd5-e858-c5dedf691ab0"
   },
   "outputs": [
    {
     "name": "stdout",
     "output_type": "stream",
     "text": [
      "f1 score: 0.7195\n"
     ]
    }
   ],
   "source": [
    "from sklearn.metrics import f1_score\n",
    "print('f1 score: {:.4f}'.format(f1_score(y_val, log_model.predict(X_val), average='macro')))"
   ]
  },
  {
   "cell_type": "code",
   "execution_count": null,
   "metadata": {
    "colab": {
     "base_uri": "https://localhost:8080/"
    },
    "id": "yHWU43vZppGf",
    "outputId": "47753aa0-a63a-4b13-c903-cc357a3a7a0f"
   },
   "outputs": [
    {
     "name": "stdout",
     "output_type": "stream",
     "text": [
      "              precision    recall  f1-score   support\n",
      "\n",
      "         0.0       0.96      0.89      0.92       901\n",
      "         1.0       0.78      0.85      0.82       270\n",
      "         2.0       0.36      0.51      0.42        96\n",
      "\n",
      "    accuracy                           0.85      1267\n",
      "   macro avg       0.70      0.75      0.72      1267\n",
      "weighted avg       0.87      0.85      0.86      1267\n",
      "\n"
     ]
    }
   ],
   "source": [
    "print(classification_report(y_val, log_model.predict(X_val)))"
   ]
  },
  {
   "cell_type": "code",
   "execution_count": null,
   "metadata": {
    "colab": {
     "base_uri": "https://localhost:8080/",
     "height": 269
    },
    "id": "Ulj5DATqppGi",
    "outputId": "457ee701-6d08-4a48-c5b3-f23d1bebff33"
   },
   "outputs": [
    {
     "data": {
      "image/png": "[encoded data removed]",
      "text/plain": [
       "<Figure size 432x288 with 2 Axes>"
      ]
     },
     "metadata": {
      "needs_background": "light",
      "tags": []
     },
     "output_type": "display_data"
    }
   ],
   "source": [
    "cm = confusion_matrix(y_val, log_model.predict(X_val))\n",
    "sns.heatmap(cm, annot=True, fmt=\"d\", cmap=\"YlGnBu\");"
   ]
  },
  {
   "cell_type": "code",
   "execution_count": null,
   "metadata": {
    "id": "vgtZd5dGlasA"
   },
   "outputs": [],
   "source": []
  },
  {
   "cell_type": "markdown",
   "metadata": {
    "id": "rHIR_0iYptKR"
   },
   "source": [
    "### on test:"
   ]
  },
  {
   "cell_type": "code",
   "execution_count": null,
   "metadata": {
    "id": "sjujaMq7cZvI"
   },
   "outputs": [],
   "source": [
    "log_reg_pred_on_test = log_model.predict(X_test)"
   ]
  },
  {
   "cell_type": "code",
   "execution_count": null,
   "metadata": {
    "colab": {
     "base_uri": "https://localhost:8080/"
    },
    "id": "eNS4GfpMlbnN",
    "outputId": "33a8c89f-01ca-4b89-ae68-04687b235912"
   },
   "outputs": [
    {
     "name": "stdout",
     "output_type": "stream",
     "text": [
      "f1 score: 0.6951\n"
     ]
    }
   ],
   "source": [
    "from sklearn.metrics import f1_score\n",
    "print('f1 score: {:.4f}'.format(f1_score(y_test, log_model.predict(X_test), average='macro')))"
   ]
  },
  {
   "cell_type": "code",
   "execution_count": null,
   "metadata": {
    "colab": {
     "base_uri": "https://localhost:8080/"
    },
    "id": "os9xvi5PptKR",
    "outputId": "b91bb04d-5662-4806-c869-9ec8cbc3a8f7"
   },
   "outputs": [
    {
     "name": "stdout",
     "output_type": "stream",
     "text": [
      "              precision    recall  f1-score   support\n",
      "\n",
      "         0.0       0.96      0.86      0.91       921\n",
      "         1.0       0.77      0.81      0.79       253\n",
      "         2.0       0.30      0.56      0.39        93\n",
      "\n",
      "    accuracy                           0.83      1267\n",
      "   macro avg       0.68      0.74      0.70      1267\n",
      "weighted avg       0.87      0.83      0.85      1267\n",
      "\n"
     ]
    }
   ],
   "source": [
    "print(classification_report(y_test, log_model.predict(X_test)))"
   ]
  },
  {
   "cell_type": "code",
   "execution_count": null,
   "metadata": {
    "colab": {
     "base_uri": "https://localhost:8080/",
     "height": 265
    },
    "id": "V2AH3BsVptKS",
    "outputId": "bd3e8d03-61da-46af-d0e2-17fa44e7ce32"
   },
   "outputs": [
    {
     "data": {
      "image/png": "[encoded data removed]",
      "text/plain": [
       "<Figure size 432x288 with 2 Axes>"
      ]
     },
     "metadata": {
      "needs_background": "light",
      "tags": []
     },
     "output_type": "display_data"
    }
   ],
   "source": [
    "cm = confusion_matrix(y_test, log_model.predict(X_test))\n",
    "sns.heatmap(cm, annot=True, fmt=\"d\", cmap=\"YlGnBu\");"
   ]
  },
  {
   "cell_type": "markdown",
   "metadata": {
    "id": "Xhn3wg8iri8I"
   },
   "source": [
    "## Support Vector Machine"
   ]
  },
  {
   "cell_type": "code",
   "execution_count": null,
   "metadata": {
    "colab": {
     "base_uri": "https://localhost:8080/"
    },
    "id": "IRQ3WGbKpMrZ",
    "outputId": "c80020ca-2b4e-4066-b247-2628d2f01de3"
   },
   "outputs": [
    {
     "data": {
      "text/plain": [
       "SVC(C=1.0, break_ties=False, cache_size=200, class_weight='balanced', coef0=0.0,\n",
       "    decision_function_shape='ovo', degree=3, gamma='scale', kernel='rbf',\n",
       "    max_iter=-1, probability=True, random_state=None, shrinking=True, tol=0.001,\n",
       "    verbose=False)"
      ]
     },
     "execution_count": 55,
     "metadata": {
      "tags": []
     },
     "output_type": "execute_result"
    }
   ],
   "source": [
    "from sklearn.svm import SVC\n",
    "SVM = SVC(class_weight='balanced', decision_function_shape='ovo', probability=True)\n",
    "SVM.fit(X_train, y_train)"
   ]
  },
  {
   "cell_type": "markdown",
   "metadata": {
    "id": "KHPZEpKEsCg2"
   },
   "source": [
    "### on val:"
   ]
  },
  {
   "cell_type": "code",
   "execution_count": null,
   "metadata": {
    "id": "O6Ls_l-B1wBE"
   },
   "outputs": [],
   "source": [
    "SVM_pred_on_val = SVM.predict(X_val)"
   ]
  },
  {
   "cell_type": "code",
   "execution_count": null,
   "metadata": {
    "colab": {
     "base_uri": "https://localhost:8080/"
    },
    "id": "fzi-isrZllYg",
    "outputId": "dd7d3b66-cc69-4a31-d52c-547465924e4c"
   },
   "outputs": [
    {
     "name": "stdout",
     "output_type": "stream",
     "text": [
      "f1 score: 0.7197\n"
     ]
    }
   ],
   "source": [
    "from sklearn.metrics import f1_score\n",
    "print('f1 score: {:.4f}'.format(f1_score(y_val, SVM.predict(X_val), average='macro')))"
   ]
  },
  {
   "cell_type": "code",
   "execution_count": null,
   "metadata": {
    "colab": {
     "base_uri": "https://localhost:8080/"
    },
    "id": "iKx9qlGNsCg3",
    "outputId": "82a62dfa-b7bb-4d72-ae30-9cf660bdd5c5"
   },
   "outputs": [
    {
     "name": "stdout",
     "output_type": "stream",
     "text": [
      "              precision    recall  f1-score   support\n",
      "\n",
      "         0.0       0.96      0.90      0.93       901\n",
      "         1.0       0.75      0.88      0.81       270\n",
      "         2.0       0.39      0.46      0.42        96\n",
      "\n",
      "    accuracy                           0.86      1267\n",
      "   macro avg       0.70      0.74      0.72      1267\n",
      "weighted avg       0.88      0.86      0.87      1267\n",
      "\n"
     ]
    }
   ],
   "source": [
    "print(classification_report(y_val, SVM_pred_on_val))"
   ]
  },
  {
   "cell_type": "code",
   "execution_count": null,
   "metadata": {
    "colab": {
     "base_uri": "https://localhost:8080/",
     "height": 267
    },
    "id": "fLiNvCnJsCg3",
    "outputId": "b9abc8ec-e374-4e64-ddc2-3738f96ac25c"
   },
   "outputs": [
    {
     "data": {
      "image/png": "[encoded data removed]",
      "text/plain": [
       "<Figure size 432x288 with 2 Axes>"
      ]
     },
     "metadata": {
      "tags": []
     },
     "output_type": "display_data"
    }
   ],
   "source": [
    "cm = confusion_matrix(y_val, SVM_pred_on_val)\n",
    "sns.heatmap(cm, annot=True, fmt=\"d\", cmap=\"YlGnBu\");"
   ]
  },
  {
   "cell_type": "markdown",
   "metadata": {
    "id": "9PtsUaSuUMlh"
   },
   "source": [
    "### on test:"
   ]
  },
  {
   "cell_type": "code",
   "execution_count": null,
   "metadata": {
    "id": "jhzrHOeO2FUp"
   },
   "outputs": [],
   "source": [
    "SVM_pred_on_test = SVM.predict(X_test)"
   ]
  },
  {
   "cell_type": "code",
   "execution_count": null,
   "metadata": {
    "colab": {
     "base_uri": "https://localhost:8080/"
    },
    "id": "IJ0xlOXFlzeU",
    "outputId": "453b2f9f-d802-41ef-cf55-586979826fe4"
   },
   "outputs": [
    {
     "name": "stdout",
     "output_type": "stream",
     "text": [
      "f1 score: 0.6978\n"
     ]
    }
   ],
   "source": [
    "from sklearn.metrics import f1_score\n",
    "print('f1 score: {:.4f}'.format(f1_score(y_test, SVM.predict(X_test), average='macro')))"
   ]
  },
  {
   "cell_type": "code",
   "execution_count": null,
   "metadata": {
    "colab": {
     "base_uri": "https://localhost:8080/"
    },
    "id": "mTaiIdY3UMli",
    "outputId": "5f67a880-8a60-473e-e367-2f8bbc1a20f0"
   },
   "outputs": [
    {
     "name": "stdout",
     "output_type": "stream",
     "text": [
      "              precision    recall  f1-score   support\n",
      "\n",
      "         0.0       0.97      0.87      0.92       921\n",
      "         1.0       0.69      0.90      0.78       253\n",
      "         2.0       0.37      0.43      0.40        93\n",
      "\n",
      "    accuracy                           0.84      1267\n",
      "   macro avg       0.68      0.73      0.70      1267\n",
      "weighted avg       0.87      0.84      0.85      1267\n",
      "\n"
     ]
    }
   ],
   "source": [
    "print(classification_report(y_test, SVM_pred_on_test))"
   ]
  },
  {
   "cell_type": "code",
   "execution_count": null,
   "metadata": {
    "colab": {
     "base_uri": "https://localhost:8080/",
     "height": 269
    },
    "id": "sWQK1KfoUMll",
    "outputId": "7228800d-b455-488c-93c8-5e95615e2af7"
   },
   "outputs": [
    {
     "data": {
      "image/png": "[encoded data removed]",
      "text/plain": [
       "<Figure size 432x288 with 2 Axes>"
      ]
     },
     "metadata": {
      "tags": []
     },
     "output_type": "display_data"
    }
   ],
   "source": [
    "cm = confusion_matrix(y_test, SVM_pred_on_test)\n",
    "sns.heatmap(cm, annot=True, fmt=\"d\", cmap=\"YlGnBu\");"
   ]
  },
  {
   "cell_type": "code",
   "execution_count": null,
   "metadata": {
    "id": "PZalPpynUMlm"
   },
   "outputs": [],
   "source": []
  },
  {
   "cell_type": "code",
   "execution_count": null,
   "metadata": {
    "id": "uYC8wPdesCg4"
   },
   "outputs": [],
   "source": []
  },
  {
   "cell_type": "markdown",
   "metadata": {
    "id": "HEwmiRubrYQe"
   },
   "source": [
    "##Try Fully Connected Net:\n"
   ]
  },
  {
   "cell_type": "code",
   "execution_count": null,
   "metadata": {
    "id": "BD0pJSNGqpU3"
   },
   "outputs": [],
   "source": [
    "class_weights = class_weight.compute_class_weight('balanced', \n",
    "                                                  np.unique(y_train), y_train)"
   ]
  },
  {
   "cell_type": "code",
   "execution_count": null,
   "metadata": {
    "id": "NLMLIR-NvW1h"
   },
   "outputs": [],
   "source": [
    "y_train = to_categorical(y_train)\n",
    "y_val = to_categorical(y_val)\n",
    "y_test = to_categorical(y_test)"
   ]
  },
  {
   "cell_type": "code",
   "execution_count": null,
   "metadata": {
    "colab": {
     "base_uri": "https://localhost:8080/"
    },
    "id": "SN_heOL5rp_o",
    "outputId": "60eb6a38-f8a1-43e2-87be-572d3faec5a3"
   },
   "outputs": [
    {
     "name": "stdout",
     "output_type": "stream",
     "text": [
      "Model: \"sequential\"\n",
      "_________________________________________________________________\n",
      "Layer (type)                 Output Shape              Param #   \n",
      "=================================================================\n",
      "dense (Dense)                (None, 256)               1618944   \n",
      "_________________________________________________________________\n",
      "dropout (Dropout)            (None, 256)               0         \n",
      "_________________________________________________________________\n",
      "dense_1 (Dense)              (None, 64)                16448     \n",
      "_________________________________________________________________\n",
      "dropout_1 (Dropout)          (None, 64)                0         \n",
      "_________________________________________________________________\n",
      "dense_2 (Dense)              (None, 32)                2080      \n",
      "_________________________________________________________________\n",
      "dropout_2 (Dropout)          (None, 32)                0         \n",
      "_________________________________________________________________\n",
      "dense_3 (Dense)              (None, 16)                528       \n",
      "_________________________________________________________________\n",
      "dropout_3 (Dropout)          (None, 16)                0         \n",
      "_________________________________________________________________\n",
      "dense_4 (Dense)              (None, 3)                 51        \n",
      "=================================================================\n",
      "Total params: 1,638,051\n",
      "Trainable params: 1,638,051\n",
      "Non-trainable params: 0\n",
      "_________________________________________________________________\n"
     ]
    }
   ],
   "source": [
    "FCN_model = Sequential()\n",
    "FCN_model.add(Dense(256, input_shape=(X_train.shape[1], ), activation='relu'))\n",
    "FCN_model.add(Dropout(0.1))\n",
    "FCN_model.add(Dense(64, activation='relu'))\n",
    "FCN_model.add(Dropout(0.2))\n",
    "FCN_model.add(Dense(32, activation='relu'))\n",
    "FCN_model.add(Dropout(0.2))\n",
    "FCN_model.add(Dense(16, activation='relu'))\n",
    "FCN_model.add(Dropout(0.3))\n",
    "FCN_model.add(Dense(3, activation='softmax'))\n",
    "FCN_model.summary()"
   ]
  },
  {
   "cell_type": "code",
   "execution_count": null,
   "metadata": {
    "id": "8vFZyV8zslK9"
   },
   "outputs": [],
   "source": [
    "FCN_model.compile(optimizer='adam', loss='categorical_crossentropy', metrics=['accuracy'])"
   ]
  },
  {
   "cell_type": "code",
   "execution_count": null,
   "metadata": {
    "colab": {
     "base_uri": "https://localhost:8080/"
    },
    "id": "8heQ3MB0u9Rs",
    "outputId": "e0bd7241-7b06-4802-fad9-0fdb858e43b2"
   },
   "outputs": [
    {
     "name": "stdout",
     "output_type": "stream",
     "text": [
      "Epoch 1/50\n",
      "308/308 [==============================] - 4s 6ms/step - loss: 0.9329 - accuracy: 0.6996 - val_loss: 0.4792 - val_accuracy: 0.7948\n",
      "Epoch 2/50\n",
      "308/308 [==============================] - 2s 5ms/step - loss: 0.5426 - accuracy: 0.8273 - val_loss: 0.4021 - val_accuracy: 0.8343\n",
      "Epoch 3/50\n",
      "308/308 [==============================] - 1s 5ms/step - loss: 0.3972 - accuracy: 0.8738 - val_loss: 0.4579 - val_accuracy: 0.8256\n",
      "Epoch 4/50\n",
      "308/308 [==============================] - 1s 5ms/step - loss: 0.2785 - accuracy: 0.9129 - val_loss: 0.4301 - val_accuracy: 0.8627\n",
      "Epoch 5/50\n",
      "308/308 [==============================] - 2s 5ms/step - loss: 0.1961 - accuracy: 0.9387 - val_loss: 0.5228 - val_accuracy: 0.8792\n",
      "Epoch 6/50\n",
      "308/308 [==============================] - 2s 5ms/step - loss: 0.1215 - accuracy: 0.9563 - val_loss: 0.6712 - val_accuracy: 0.8595\n",
      "Epoch 7/50\n",
      "308/308 [==============================] - 2s 5ms/step - loss: 0.0992 - accuracy: 0.9742 - val_loss: 0.6537 - val_accuracy: 0.8777\n",
      "Epoch 8/50\n",
      "308/308 [==============================] - 1s 5ms/step - loss: 0.0625 - accuracy: 0.9818 - val_loss: 0.6999 - val_accuracy: 0.8824\n",
      "Epoch 9/50\n",
      "308/308 [==============================] - 2s 5ms/step - loss: 0.0637 - accuracy: 0.9842 - val_loss: 0.7320 - val_accuracy: 0.8800\n",
      "Epoch 10/50\n",
      "308/308 [==============================] - 2s 5ms/step - loss: 0.0327 - accuracy: 0.9918 - val_loss: 0.8536 - val_accuracy: 0.8635\n",
      "Epoch 11/50\n",
      "308/308 [==============================] - 2s 5ms/step - loss: 0.0527 - accuracy: 0.9868 - val_loss: 0.8080 - val_accuracy: 0.8840\n",
      "Epoch 12/50\n",
      "308/308 [==============================] - 2s 5ms/step - loss: 0.0318 - accuracy: 0.9903 - val_loss: 0.9078 - val_accuracy: 0.8761\n",
      "Epoch 13/50\n",
      "308/308 [==============================] - 1s 5ms/step - loss: 0.0263 - accuracy: 0.9918 - val_loss: 0.9908 - val_accuracy: 0.8777\n",
      "Epoch 14/50\n",
      "308/308 [==============================] - 1s 5ms/step - loss: 0.0211 - accuracy: 0.9948 - val_loss: 1.0020 - val_accuracy: 0.8848\n",
      "Epoch 15/50\n",
      "308/308 [==============================] - 1s 5ms/step - loss: 0.0173 - accuracy: 0.9962 - val_loss: 1.1161 - val_accuracy: 0.8863\n",
      "Epoch 16/50\n",
      "308/308 [==============================] - 1s 5ms/step - loss: 0.0210 - accuracy: 0.9952 - val_loss: 1.2625 - val_accuracy: 0.8895\n",
      "Epoch 17/50\n",
      "308/308 [==============================] - 1s 5ms/step - loss: 0.0381 - accuracy: 0.9902 - val_loss: 1.0283 - val_accuracy: 0.8887\n",
      "Epoch 18/50\n",
      "308/308 [==============================] - 1s 5ms/step - loss: 0.0289 - accuracy: 0.9923 - val_loss: 0.9748 - val_accuracy: 0.8729\n",
      "Epoch 19/50\n",
      "308/308 [==============================] - 1s 5ms/step - loss: 0.0266 - accuracy: 0.9931 - val_loss: 0.9985 - val_accuracy: 0.8848\n",
      "Epoch 20/50\n",
      "308/308 [==============================] - 1s 5ms/step - loss: 0.0235 - accuracy: 0.9944 - val_loss: 0.9900 - val_accuracy: 0.8792\n",
      "Epoch 21/50\n",
      "308/308 [==============================] - 2s 5ms/step - loss: 0.0269 - accuracy: 0.9923 - val_loss: 1.0690 - val_accuracy: 0.8713\n",
      "Epoch 22/50\n",
      "308/308 [==============================] - 2s 5ms/step - loss: 0.0184 - accuracy: 0.9934 - val_loss: 1.2551 - val_accuracy: 0.8792\n",
      "Epoch 23/50\n",
      "308/308 [==============================] - 2s 5ms/step - loss: 0.0106 - accuracy: 0.9973 - val_loss: 1.2883 - val_accuracy: 0.8721\n",
      "Epoch 24/50\n",
      "308/308 [==============================] - 2s 5ms/step - loss: 0.0090 - accuracy: 0.9973 - val_loss: 1.2353 - val_accuracy: 0.8729\n",
      "Epoch 25/50\n",
      "308/308 [==============================] - 2s 5ms/step - loss: 0.0116 - accuracy: 0.9962 - val_loss: 1.4467 - val_accuracy: 0.8785\n",
      "Epoch 26/50\n",
      "308/308 [==============================] - 2s 5ms/step - loss: 0.0139 - accuracy: 0.9965 - val_loss: 1.5300 - val_accuracy: 0.8816\n",
      "Epoch 27/50\n",
      "308/308 [==============================] - 2s 5ms/step - loss: 0.0055 - accuracy: 0.9984 - val_loss: 1.4764 - val_accuracy: 0.8792\n",
      "Epoch 28/50\n",
      "308/308 [==============================] - 2s 5ms/step - loss: 0.0108 - accuracy: 0.9949 - val_loss: 1.6371 - val_accuracy: 0.8792\n",
      "Epoch 29/50\n",
      "308/308 [==============================] - 1s 5ms/step - loss: 0.0150 - accuracy: 0.9977 - val_loss: 1.4003 - val_accuracy: 0.8777\n",
      "Epoch 30/50\n",
      "308/308 [==============================] - 2s 5ms/step - loss: 0.0153 - accuracy: 0.9958 - val_loss: 1.4031 - val_accuracy: 0.8698\n",
      "Epoch 31/50\n",
      "308/308 [==============================] - 2s 5ms/step - loss: 0.0066 - accuracy: 0.9969 - val_loss: 1.6105 - val_accuracy: 0.8674\n",
      "Epoch 32/50\n",
      "308/308 [==============================] - 1s 5ms/step - loss: 0.0053 - accuracy: 0.9987 - val_loss: 1.7600 - val_accuracy: 0.8706\n",
      "Epoch 33/50\n",
      "308/308 [==============================] - 2s 5ms/step - loss: 0.0062 - accuracy: 0.9981 - val_loss: 1.6877 - val_accuracy: 0.8729\n",
      "Epoch 34/50\n",
      "308/308 [==============================] - 2s 5ms/step - loss: 0.0061 - accuracy: 0.9977 - val_loss: 1.8032 - val_accuracy: 0.8745\n",
      "Epoch 35/50\n",
      "308/308 [==============================] - 2s 5ms/step - loss: 0.0088 - accuracy: 0.9976 - val_loss: 1.8287 - val_accuracy: 0.8785\n",
      "Epoch 36/50\n",
      "308/308 [==============================] - 2s 5ms/step - loss: 0.0116 - accuracy: 0.9966 - val_loss: 1.6969 - val_accuracy: 0.8737\n",
      "Epoch 37/50\n",
      "308/308 [==============================] - 2s 5ms/step - loss: 0.0077 - accuracy: 0.9976 - val_loss: 2.0929 - val_accuracy: 0.8785\n",
      "Epoch 38/50\n",
      "308/308 [==============================] - 2s 5ms/step - loss: 0.0333 - accuracy: 0.9940 - val_loss: 1.4874 - val_accuracy: 0.8753\n",
      "Epoch 39/50\n",
      "308/308 [==============================] - 2s 5ms/step - loss: 0.0238 - accuracy: 0.9928 - val_loss: 1.3090 - val_accuracy: 0.8635\n",
      "Epoch 40/50\n",
      "308/308 [==============================] - 2s 5ms/step - loss: 0.0199 - accuracy: 0.9946 - val_loss: 1.5653 - val_accuracy: 0.8769\n",
      "Epoch 41/50\n",
      "308/308 [==============================] - 1s 5ms/step - loss: 0.0135 - accuracy: 0.9960 - val_loss: 1.6548 - val_accuracy: 0.8800\n",
      "Epoch 42/50\n",
      "308/308 [==============================] - 2s 5ms/step - loss: 0.0164 - accuracy: 0.9952 - val_loss: 1.4953 - val_accuracy: 0.8785\n",
      "Epoch 43/50\n",
      "308/308 [==============================] - 2s 5ms/step - loss: 0.0082 - accuracy: 0.9962 - val_loss: 1.5000 - val_accuracy: 0.8848\n",
      "Epoch 44/50\n",
      "308/308 [==============================] - 2s 5ms/step - loss: 0.0090 - accuracy: 0.9971 - val_loss: 1.6051 - val_accuracy: 0.8840\n",
      "Epoch 45/50\n",
      "308/308 [==============================] - 2s 5ms/step - loss: 0.0069 - accuracy: 0.9977 - val_loss: 1.7197 - val_accuracy: 0.8824\n",
      "Epoch 46/50\n",
      "308/308 [==============================] - 2s 5ms/step - loss: 0.0068 - accuracy: 0.9979 - val_loss: 1.8029 - val_accuracy: 0.8863\n",
      "Epoch 47/50\n",
      "308/308 [==============================] - 1s 5ms/step - loss: 0.0109 - accuracy: 0.9983 - val_loss: 1.6866 - val_accuracy: 0.8800\n",
      "Epoch 48/50\n",
      "308/308 [==============================] - 1s 5ms/step - loss: 0.0078 - accuracy: 0.9971 - val_loss: 1.8481 - val_accuracy: 0.8800\n",
      "Epoch 49/50\n",
      "308/308 [==============================] - 2s 5ms/step - loss: 0.0089 - accuracy: 0.9971 - val_loss: 1.8296 - val_accuracy: 0.8824\n",
      "Epoch 50/50\n",
      "308/308 [==============================] - 1s 5ms/step - loss: 0.0040 - accuracy: 0.9980 - val_loss: 1.9660 - val_accuracy: 0.8840\n"
     ]
    },
    {
     "data": {
      "text/plain": [
       "<tensorflow.python.keras.callbacks.History at 0x7fb504b89828>"
      ]
     },
     "execution_count": 63,
     "metadata": {
      "tags": []
     },
     "output_type": "execute_result"
    }
   ],
   "source": [
    "FCN_model.fit(X_train, y_train, validation_data=(X_val, y_val), batch_size=32, epochs=50, class_weight=dict(enumerate(class_weights)))"
   ]
  },
  {
   "cell_type": "code",
   "execution_count": null,
   "metadata": {
    "colab": {
     "base_uri": "https://localhost:8080/"
    },
    "id": "AQnm2fyxmtoe",
    "outputId": "93c7e12e-2c48-42af-a6fa-ea29bc1a3da3"
   },
   "outputs": [
    {
     "name": "stdout",
     "output_type": "stream",
     "text": [
      "val f1 score: 0.7398\n",
      "test f1 score: 0.7170\n"
     ]
    }
   ],
   "source": [
    "from sklearn.metrics import f1_score\n",
    "print('val f1 score: {:.4f}'.format(f1_score(np.argmax(y_val, axis=-1), np.argmax(FCN_model.predict(X_val), axis=-1), average='macro')))\n",
    "print('test f1 score: {:.4f}'.format(f1_score(np.argmax(y_test, axis=-1), np.argmax(FCN_model.predict(X_test), axis=-1), average='macro')))"
   ]
  },
  {
   "cell_type": "code",
   "execution_count": null,
   "metadata": {
    "colab": {
     "base_uri": "https://localhost:8080/"
    },
    "id": "fRbni2_LvQgd",
    "outputId": "6af0d01b-d4a8-47fe-f1f3-a12c70f7e80c"
   },
   "outputs": [
    {
     "name": "stdout",
     "output_type": "stream",
     "text": [
      "              precision    recall  f1-score   support\n",
      "\n",
      "           0       0.94      0.95      0.95       921\n",
      "           1       0.82      0.83      0.82       253\n",
      "           2       0.39      0.38      0.38        93\n",
      "\n",
      "    accuracy                           0.88      1267\n",
      "   macro avg       0.72      0.72      0.72      1267\n",
      "weighted avg       0.88      0.88      0.88      1267\n",
      "\n"
     ]
    }
   ],
   "source": [
    "print(classification_report(np.argmax(y_test, axis=-1), np.argmax(FCN_model.predict(X_test), axis=-1)))"
   ]
  },
  {
   "cell_type": "code",
   "execution_count": null,
   "metadata": {
    "colab": {
     "base_uri": "https://localhost:8080/",
     "height": 265
    },
    "id": "9YY8MPONTRRY",
    "outputId": "40a55e76-404c-4fea-bcb3-d07041af1cbf"
   },
   "outputs": [
    {
     "data": {
      "image/png": "[encoded data removed]",
      "text/plain": [
       "<Figure size 432x288 with 2 Axes>"
      ]
     },
     "metadata": {
      "needs_background": "light",
      "tags": []
     },
     "output_type": "display_data"
    }
   ],
   "source": [
    "cm = confusion_matrix(np.argmax(y_test, axis=1), np.argmax(FCN_model.predict(X_test), axis=-1))\n",
    "sns.heatmap(cm, annot=True, fmt=\"d\", cmap=\"YlGnBu\");"
   ]
  },
  {
   "cell_type": "code",
   "execution_count": null,
   "metadata": {
    "id": "oCJC5tU2UnAK"
   },
   "outputs": [],
   "source": [
    "FCN_pred_on_val = np.argmax(FCN_model.predict(X_val), axis=-1)\n",
    "FCN_pred_on_test = np.argmax(FCN_model.predict(X_test), axis=-1)"
   ]
  },
  {
   "cell_type": "markdown",
   "metadata": {
    "id": "xbY5JGbWUqVp"
   },
   "source": [
    "# SAVE models:"
   ]
  },
  {
   "cell_type": "code",
   "execution_count": null,
   "metadata": {
    "id": "XaBr9YH1UtSx"
   },
   "outputs": [],
   "source": [
    "import joblib\n",
    "import pickle"
   ]
  },
  {
   "cell_type": "code",
   "execution_count": null,
   "metadata": {
    "id": "SeCEfKiYZl4F"
   },
   "outputs": [],
   "source": [
    "joblib.dump(naive_bayes_model, '/content/drive/MyDrive/Colab Notebooks/Đồ án KHDL1/SAVED_MODELS/naive_bayes_model.h5')\n",
    "pickle.dump(naive_bayes_model, open('/content/drive/MyDrive/Colab Notebooks/Đồ án KHDL1/SAVED_MODELS/naive_bayes_model.pkl', 'wb'))"
   ]
  },
  {
   "cell_type": "code",
   "execution_count": null,
   "metadata": {
    "id": "f4RH-atnUub9"
   },
   "outputs": [],
   "source": [
    "joblib.dump(random_forest_model, '/content/drive/MyDrive/Colab Notebooks/Đồ án KHDL1/SAVED_MODELS/random_forest_model.h5')\n",
    "pickle.dump(random_forest_model, open('/content/drive/MyDrive/Colab Notebooks/Đồ án KHDL1/SAVED_MODELS/random_forest_model.pkl', 'wb'))"
   ]
  },
  {
   "cell_type": "code",
   "execution_count": null,
   "metadata": {
    "id": "HNItP2VJX4XW"
   },
   "outputs": [],
   "source": [
    "joblib.dump(log_model, '/content/drive/MyDrive/Colab Notebooks/Đồ án KHDL1/SAVED_MODELS/log_model.h5')\n",
    "pickle.dump(log_model, open('/content/drive/MyDrive/Colab Notebooks/Đồ án KHDL1/SAVED_MODELS/log_model.pkl', 'wb'))"
   ]
  },
  {
   "cell_type": "code",
   "execution_count": null,
   "metadata": {
    "colab": {
     "base_uri": "https://localhost:8080/"
    },
    "id": "PvhpKjPIZ7cb",
    "outputId": "90fa2363-610e-42cf-b22a-f8514193c625"
   },
   "outputs": [
    {
     "data": {
      "text/plain": [
       "['/content/drive/MyDrive/Colab Notebooks/Đồ án KHDL1/SAVED_MODELS/SVM.joblib']"
      ]
     },
     "execution_count": 144,
     "metadata": {
      "tags": []
     },
     "output_type": "execute_result"
    }
   ],
   "source": [
    "joblib.dump(SVM, '/content/drive/MyDrive/Colab Notebooks/Đồ án KHDL1/SAVED_MODELS/SVM.h5')\n",
    "pickle.dump(SVM, open('/content/drive/MyDrive/Colab Notebooks/Đồ án KHDL1/SAVED_MODELS/SVM.pkl', 'wb'))\n",
    "joblib.dump(SVM, '/content/drive/MyDrive/Colab Notebooks/Đồ án KHDL1/SAVED_MODELS/SVM.joblib')"
   ]
  },
  {
   "cell_type": "code",
   "execution_count": null,
   "metadata": {
    "id": "MJBHvkIoaApQ"
   },
   "outputs": [],
   "source": [
    "FCN_model.save('/content/drive/MyDrive/Colab Notebooks/Đồ án KHDL1/SAVED_MODELS/FCN_model.h5')"
   ]
  },
  {
   "cell_type": "code",
   "execution_count": null,
   "metadata": {
    "colab": {
     "base_uri": "https://localhost:8080/"
    },
    "id": "dkp7NnYYcFCH",
    "outputId": "d887babf-42b5-4aaf-b843-2cf5886eb691"
   },
   "outputs": [
    {
     "name": "stdout",
     "output_type": "stream",
     "text": [
      "Saved model to disk\n",
      "Loaded model from disk\n"
     ]
    }
   ],
   "source": [
    "from keras.models import model_from_yaml\n",
    "\n",
    "# serialize model to YAML\n",
    "model_yaml = FCN_model.to_yaml()\n",
    "with open(\"/content/drive/MyDrive/Colab Notebooks/Đồ án KHDL1/SAVED_MODELS/FCN_model.yaml\", \"w\") as yaml_file:\n",
    "    yaml_file.write(model_yaml)\n",
    "# serialize weights to HDF5\n",
    "FCN_model.save_weights(\"/content/drive/MyDrive/Colab Notebooks/Đồ án KHDL1/SAVED_MODELS/FCN_weights.h5\")\n",
    "print(\"Saved model to disk\")\n",
    " \n",
    "# later...\n",
    " \n",
    "# load YAML and create model\n",
    "yaml_file = open('/content/drive/MyDrive/Colab Notebooks/Đồ án KHDL1/SAVED_MODELS/FCN_model.yaml', 'r')\n",
    "loaded_model_yaml = yaml_file.read()\n",
    "yaml_file.close()\n",
    "FCN_model = model_from_yaml(loaded_model_yaml)\n",
    "# load weights into new model\n",
    "FCN_model.load_weights(\"/content/drive/MyDrive/Colab Notebooks/Đồ án KHDL1/SAVED_MODELS/FCN_weights.h5\")\n",
    "print(\"Loaded model from disk\")\n",
    " \n",
    "# evaluate loaded model on test data\n",
    "FCN_model.compile(optimizer='adam', loss='categorical_crossentropy', metrics=['accuracy'])"
   ]
  },
  {
   "cell_type": "markdown",
   "metadata": {
    "id": "Hvt3WRSiXesM"
   },
   "source": [
    "### Save Countvectorizer:"
   ]
  },
  {
   "cell_type": "code",
   "execution_count": null,
   "metadata": {
    "colab": {
     "base_uri": "https://localhost:8080/"
    },
    "id": "6ADdpnriXkdO",
    "outputId": "0b29bce9-1577-4f07-d3d8-6a2ddb5b8680"
   },
   "outputs": [
    {
     "data": {
      "text/plain": [
       "['/content/drive/MyDrive/Colab Notebooks/Đồ án KHDL1/SAVED_MODELS/cv.h5']"
      ]
     },
     "execution_count": 72,
     "metadata": {
      "tags": []
     },
     "output_type": "execute_result"
    }
   ],
   "source": [
    "joblib.dump(cv, '/content/drive/MyDrive/Colab Notebooks/Đồ án KHDL1/SAVED_MODELS/cv.h5')"
   ]
  },
  {
   "cell_type": "code",
   "execution_count": null,
   "metadata": {
    "id": "ZNmOg-ud_CTV"
   },
   "outputs": [],
   "source": []
  },
  {
   "cell_type": "markdown",
   "metadata": {
    "id": "sp3XrETKYjD5"
   },
   "source": [
    "# Load models:"
   ]
  },
  {
   "cell_type": "code",
   "execution_count": 31,
   "metadata": {
    "id": "uZXQDr9aYjEQ"
   },
   "outputs": [],
   "source": [
    "from keras.models import load_model\n",
    "BiLSTM_model = load_model('/content/drive/MyDrive/Colab Notebooks/Đồ án KHDL1/SAVED_MODELS/BiLSTM_model.h5')"
   ]
  },
  {
   "cell_type": "code",
   "execution_count": 32,
   "metadata": {
    "id": "nznHBO_eaNd9"
   },
   "outputs": [],
   "source": [
    "import joblib\n",
    "naive_bayes_model = joblib.load('/content/drive/MyDrive/Colab Notebooks/Đồ án KHDL1/SAVED_MODELS/naive_bayes_model.h5')\n",
    "random_forest_model = joblib.load('/content/drive/MyDrive/Colab Notebooks/Đồ án KHDL1/SAVED_MODELS/random_forest_model.h5')\n",
    "log_model = joblib.load('/content/drive/MyDrive/Colab Notebooks/Đồ án KHDL1/SAVED_MODELS/log_model.h5')\n",
    "SVM = joblib.load('/content/drive/MyDrive/Colab Notebooks/Đồ án KHDL1/SAVED_MODELS/SVM.h5')\n",
    "FCN_model = load_model('/content/drive/MyDrive/Colab Notebooks/Đồ án KHDL1/SAVED_MODELS/FCN_model.h5')"
   ]
  },
  {
   "cell_type": "markdown",
   "metadata": {
    "id": "7LdnXYPRSjka"
   },
   "source": [
    "# Ensample models(Majority Voting):"
   ]
  },
  {
   "cell_type": "markdown",
   "metadata": {
    "id": "Nh_kUEwBXvir"
   },
   "source": [
    "### on val:"
   ]
  },
  {
   "cell_type": "code",
   "execution_count": 34,
   "metadata": {
    "id": "J3B218ZVnEjX"
   },
   "outputs": [],
   "source": [
    "naive_bayes_pred_on_val = naive_bayes_model.predict(X_val)\n",
    "random_forest_pred_on_val = random_forest_model.predict(X_val)\n",
    "log_reg_pred_on_val = log_model.predict(X_val)\n",
    "SVM_pred_on_val = SVM.predict(X_val)\n",
    "FCN_pred_on_val = np.argmax(FCN_model.predict(X_val), axis=-1)\n",
    "BiLSTM_pred_on_val = pd.read_csv('/content/drive/MyDrive/Colab Notebooks/Đồ án KHDL1/MODELs_and_ERRORs/data_to_ensemble /predicted_val_BiLSTM.csv')"
   ]
  },
  {
   "cell_type": "code",
   "execution_count": 37,
   "metadata": {
    "id": "jw_o-gKkn5IV"
   },
   "outputs": [],
   "source": [
    "BiLSTM_pred_on_val = BiLSTM_pred_on_val['predicted_val_BiLSTM']"
   ]
  },
  {
   "cell_type": "code",
   "execution_count": 40,
   "metadata": {
    "id": "elOmJjrppMPF"
   },
   "outputs": [],
   "source": [
    "BiLSTM_pred_on_val = np.array(BiLSTM_pred_on_val)"
   ]
  },
  {
   "cell_type": "code",
   "execution_count": 47,
   "metadata": {
    "id": "kQy0VacEdqXv"
   },
   "outputs": [],
   "source": [
    "val_results = pd.DataFrame([SVM_pred_on_val, naive_bayes_pred_on_val, FCN_pred_on_val, log_reg_pred_on_val, random_forest_pred_on_val, BiLSTM_pred_on_val])"
   ]
  },
  {
   "cell_type": "code",
   "execution_count": 48,
   "metadata": {
    "id": "FxN20DtpfJyl"
   },
   "outputs": [],
   "source": [
    "ensampled_results = []\n",
    "for i in range(len(val_results.columns)):\n",
    "  temp = val_results[i].mode().values[0]\n",
    "  ensampled_results.append(temp)"
   ]
  },
  {
   "cell_type": "code",
   "execution_count": 67,
   "metadata": {
    "colab": {
     "base_uri": "https://localhost:8080/"
    },
    "id": "L2aFIYTdp4vW",
    "outputId": "12e26b24-cf98-4b69-cfcb-737e55e687d7"
   },
   "outputs": [
    {
     "name": "stdout",
     "output_type": "stream",
     "text": [
      "val f1 score: 0.7571\n"
     ]
    }
   ],
   "source": [
    "from sklearn.metrics import f1_score\n",
    "print('val f1 score: {:.4f}'.format(f1_score(np.array(ensampled_results), np.array(y_val), average='macro')))"
   ]
  },
  {
   "cell_type": "code",
   "execution_count": 55,
   "metadata": {
    "colab": {
     "base_uri": "https://localhost:8080/"
    },
    "id": "nqvejDmbffT5",
    "outputId": "787dbb39-857a-4e1f-bed5-d925cf84f39e"
   },
   "outputs": [
    {
     "name": "stdout",
     "output_type": "stream",
     "text": [
      "              precision    recall  f1-score   support\n",
      "\n",
      "         0.0       0.96      0.94      0.95       918\n",
      "         1.0       0.86      0.87      0.87       268\n",
      "         2.0       0.42      0.49      0.45        81\n",
      "\n",
      "    accuracy                           0.90      1267\n",
      "   macro avg       0.75      0.77      0.76      1267\n",
      "weighted avg       0.91      0.90      0.90      1267\n",
      "\n"
     ]
    }
   ],
   "source": [
    "print(classification_report(np.array(ensampled_results), np.array(y_val)))"
   ]
  },
  {
   "cell_type": "code",
   "execution_count": 56,
   "metadata": {
    "colab": {
     "base_uri": "https://localhost:8080/",
     "height": 265
    },
    "id": "sVGx1DCNgtHp",
    "outputId": "ae39eeb2-699c-4392-b787-b6f332962aa1"
   },
   "outputs": [
    {
     "data": {
      "image/png": "[encoded data removed]",
      "text/plain": [
       "<Figure size 432x288 with 2 Axes>"
      ]
     },
     "metadata": {
      "needs_background": "light",
      "tags": []
     },
     "output_type": "display_data"
    }
   ],
   "source": [
    "cm = confusion_matrix(np.array(ensampled_results), np.array(y_val))\n",
    "sns.heatmap(cm, annot=True, fmt='d', cmap='YlGnBu');"
   ]
  },
  {
   "cell_type": "markdown",
   "metadata": {
    "id": "gpt2tpDghjCL"
   },
   "source": [
    "### on test:"
   ]
  },
  {
   "cell_type": "code",
   "execution_count": 57,
   "metadata": {
    "id": "TlviJXk8qhYb"
   },
   "outputs": [],
   "source": [
    "naive_bayes_pred_on_test = naive_bayes_model.predict(X_test)\n",
    "random_forest_pred_on_test = random_forest_model.predict(X_test)\n",
    "log_reg_pred_on_test = log_model.predict(X_test)\n",
    "SVM_pred_on_test = SVM.predict(X_test)\n",
    "FCN_pred_on_test = np.argmax(FCN_model.predict(X_test), axis=-1)\n",
    "BiLSTM_pred_on_test = pd.read_csv('/content/drive/MyDrive/Colab Notebooks/Đồ án KHDL1/MODELs_and_ERRORs/data_to_ensemble /predicted_test_BiLSTM.csv')"
   ]
  },
  {
   "cell_type": "code",
   "execution_count": 58,
   "metadata": {
    "id": "-LoHKq2JrAwF"
   },
   "outputs": [],
   "source": [
    "BiLSTM_pred_on_test = BiLSTM_pred_on_test['predicted_test_BiLSTM']\n",
    "BiLSTM_pred_on_test = np.array(BiLSTM_pred_on_test)"
   ]
  },
  {
   "cell_type": "code",
   "execution_count": 59,
   "metadata": {
    "id": "l8O379U3hjCL"
   },
   "outputs": [],
   "source": [
    "test_results = pd.DataFrame([SVM_pred_on_test, naive_bayes_pred_on_test, FCN_pred_on_test, log_reg_pred_on_test, random_forest_pred_on_test, BiLSTM_pred_on_test])"
   ]
  },
  {
   "cell_type": "code",
   "execution_count": 60,
   "metadata": {
    "id": "PMf6tin6hjCM"
   },
   "outputs": [],
   "source": [
    "test_ensampled_results = []\n",
    "for i in range(len(test_results.columns)):\n",
    "  temp = test_results[i].mode().values[0]\n",
    "  test_ensampled_results.append(temp)"
   ]
  },
  {
   "cell_type": "code",
   "execution_count": 68,
   "metadata": {
    "colab": {
     "base_uri": "https://localhost:8080/"
    },
    "id": "Kv33Y-HDr-nc",
    "outputId": "50ed9b4b-76cd-40f1-f7e6-23fd0f286e5b"
   },
   "outputs": [
    {
     "name": "stdout",
     "output_type": "stream",
     "text": [
      "val f1 score: 0.7452\n"
     ]
    }
   ],
   "source": [
    "print('val f1 score: {:.4f}'.format(f1_score(np.array(test_ensampled_results), np.array(y_test), average='macro')))"
   ]
  },
  {
   "cell_type": "code",
   "execution_count": 63,
   "metadata": {
    "colab": {
     "base_uri": "https://localhost:8080/"
    },
    "id": "Di-IGbfvhjCM",
    "outputId": "696a2fbe-4de8-48a8-89ff-6237f264d6e0"
   },
   "outputs": [
    {
     "name": "stdout",
     "output_type": "stream",
     "text": [
      "              precision    recall  f1-score   support\n",
      "\n",
      "         0.0       0.95      0.95      0.95       928\n",
      "         1.0       0.87      0.84      0.85       261\n",
      "         2.0       0.40      0.47      0.43        78\n",
      "\n",
      "    accuracy                           0.90      1267\n",
      "   macro avg       0.74      0.75      0.75      1267\n",
      "weighted avg       0.90      0.90      0.90      1267\n",
      "\n"
     ]
    }
   ],
   "source": [
    "print(classification_report(np.array(test_ensampled_results), np.array(y_test)))"
   ]
  },
  {
   "cell_type": "code",
   "execution_count": 65,
   "metadata": {
    "colab": {
     "base_uri": "https://localhost:8080/",
     "height": 265
    },
    "id": "B1sjmz9PhjCN",
    "outputId": "d11c72ba-5e5e-419a-e02b-2b77d6bb8e73"
   },
   "outputs": [
    {
     "data": {
      "image/png": "[encoded data removed]",
      "text/plain": [
       "<Figure size 432x288 with 2 Axes>"
      ]
     },
     "metadata": {
      "needs_background": "light",
      "tags": []
     },
     "output_type": "display_data"
    }
   ],
   "source": [
    "cm = confusion_matrix(np.array(test_ensampled_results), np.array(y_test))\n",
    "sns.heatmap(cm, annot=True, fmt='d', cmap='YlGnBu');"
   ]
  },
  {
   "cell_type": "markdown",
   "metadata": {
    "id": "46Y7f2_NWunN"
   },
   "source": [
    "# Predict and determine wrong predictions for all_data"
   ]
  },
  {
   "cell_type": "code",
   "execution_count": null,
   "metadata": {
    "id": "V2Q8ahYLXA0C"
   },
   "outputs": [],
   "source": [
    "naive_bayes_pred = naive_bayes_model.predict(comments)\n",
    "random_forest_pred = random_forest_model.predict(comments)\n",
    "logistic_regression_pred = log_model.predict(comments)\n",
    "SVM_pred = SVM.predict(comments.A)\n",
    "FCN_pred = np.argmax(FCN_model.predict(comments), axis=-1) "
   ]
  },
  {
   "cell_type": "code",
   "execution_count": null,
   "metadata": {
    "id": "BkZ1N7FBXEup"
   },
   "outputs": [],
   "source": [
    "Error_Analysis = pd.DataFrame(data={'comments': data['comments'],\n",
    "                                    'labels':labels, \n",
    "                                    'naive_bayes_pred': naive_bayes_pred,\n",
    "                                    'random_forest_pred': random_forest_pred, \n",
    "                                    'logistic_regression_pred':logistic_regression_pred,\n",
    "                                    'SVM_pred': SVM_pred,\n",
    "                                    'FCN_pred':FCN_pred})\n",
    "\n"
   ]
  },
  {
   "cell_type": "code",
   "execution_count": null,
   "metadata": {
    "id": "VNX_YudidKNz"
   },
   "outputs": [],
   "source": [
    "Error_Analysis['naive_bayes_pred'] = Error_Analysis['naive_bayes_pred'].astype('int')\n",
    "Error_Analysis['random_forest_pred'] = Error_Analysis['random_forest_pred'].astype('int')\n",
    "Error_Analysis['logistic_regression_pred'] = Error_Analysis['logistic_regression_pred'].astype('int')\n",
    "Error_Analysis['FCN_pred'] = Error_Analysis['FCN_pred'].astype('int')\n",
    "Error_Analysis['labels'] = Error_Analysis['labels'].astype('int')\n",
    "Error_Analysis['SVM_pred'] = Error_Analysis['SVM_pred'].astype('int')"
   ]
  },
  {
   "cell_type": "code",
   "execution_count": null,
   "metadata": {
    "id": "xmd_rRaHbC4g"
   },
   "outputs": [],
   "source": [
    "Error_Analysis.to_csv('/content/drive/MyDrive/Colab Notebooks/Đồ án KHDL1/Phân tích lỗi/predictions.csv')"
   ]
  },
  {
   "cell_type": "code",
   "execution_count": null,
   "metadata": {
    "id": "cTQ2L8fybvOL"
   },
   "outputs": [],
   "source": [
    "false_naive_bayes_pred = Error_Analysis[Error_Analysis['naive_bayes_pred'] != Error_Analysis['labels']][['comments', 'labels', 'naive_bayes_pred']]\n",
    "false_random_forest_pred = Error_Analysis[Error_Analysis['random_forest_pred'] != Error_Analysis['labels']][['comments', 'labels', 'random_forest_pred']]\n",
    "false_log_reg_pred = Error_Analysis[Error_Analysis['logistic_regression_pred'] != Error_Analysis['labels']][['comments', 'labels', 'logistic_regression_pred']]\n",
    "false_FCN_pred = Error_Analysis[Error_Analysis['FCN_pred'] != Error_Analysis['labels']][['comments', 'labels', 'FCN_pred']]\n",
    "false_SVM_pred = Error_Analysis[Error_Analysis['SVM_pred'] != Error_Analysis['labels']][['comments', 'labels', 'SVM_pred']]"
   ]
  },
  {
   "cell_type": "code",
   "execution_count": null,
   "metadata": {
    "id": "B8sK6XLUvMT9"
   },
   "outputs": [],
   "source": [
    "false_naive_bayes_pred.to_csv('/content/drive/MyDrive/Colab Notebooks/Đồ án KHDL1/Phân tích lỗi/false_naive_bayes_pred.csv')\n",
    "false_random_forest_pred.to_csv('/content/drive/MyDrive/Colab Notebooks/Đồ án KHDL1/Phân tích lỗi/false_random_forest_pred.csv')\n",
    "false_log_reg_pred.to_csv('/content/drive/MyDrive/Colab Notebooks/Đồ án KHDL1/Phân tích lỗi/false_log_reg_pred.csv')\n",
    "false_FCN_pred.to_csv('/content/drive/MyDrive/Colab Notebooks/Đồ án KHDL1/Phân tích lỗi/false_FCN_pred.csv')\n",
    "false_SVM_pred.to_csv('/content/drive/MyDrive/Colab Notebooks/Đồ án KHDL1/Phân tích lỗi/false_SVM_pred.csv')"
   ]
  },
  {
   "cell_type": "code",
   "execution_count": null,
   "metadata": {
    "id": "ildUhheOvMW1"
   },
   "outputs": [],
   "source": []
  },
  {
   "cell_type": "markdown",
   "metadata": {
    "id": "YQQpPqwgTUdU"
   },
   "source": [
    "# To predict a sentence"
   ]
  },
  {
   "cell_type": "markdown",
   "metadata": {
    "id": "a3Gp9ukuk4iR"
   },
   "source": [
    "## Preprocess a sentence:"
   ]
  },
  {
   "cell_type": "code",
   "execution_count": null,
   "metadata": {
    "id": "UUaJQpsxk32o"
   },
   "outputs": [],
   "source": [
    "def preprocess_sentence(sentence):\n",
    "  sentence = punctuation_clean(sentence)\n",
    "  sentence = merge_same_character(sentence)\n",
    "  sentence = fix_emoji(sentence)\n",
    "  sentence = emoji_to_text(sentence)\n",
    "  sentence = remove_stopwords(sentence)\n",
    "  return sentence"
   ]
  },
  {
   "cell_type": "markdown",
   "metadata": {
    "id": "udYGVm-Mk-33"
   },
   "source": [
    "## Encode sentence:"
   ]
  },
  {
   "cell_type": "code",
   "execution_count": null,
   "metadata": {
    "id": "Gyn2nbCvTeoh"
   },
   "outputs": [],
   "source": [
    "def encode_sentence(sentence):\n",
    "  return cv.transform([sentence])"
   ]
  },
  {
   "cell_type": "markdown",
   "metadata": {
    "id": "BusVwtPIlExw"
   },
   "source": [
    "## Predict:"
   ]
  },
  {
   "cell_type": "code",
   "execution_count": null,
   "metadata": {
    "id": "2eSsnQ4rlNtV"
   },
   "outputs": [],
   "source": [
    "def predict(sentence):\n",
    "  sentence = preprocess_sentence(sentence)\n",
    "  sentence = encode_sentence(sentence)\n",
    "\n",
    "  naive_bayes_pred = naive_bayes_model.predict(sentence)[0]\n",
    "  random_forest_pred = random_forest_model.predict(sentence)[0]\n",
    "  log_reg_pred = log_model.predict(sentence)[0]\n",
    "  SVM_pred = SVM.predict(sentence.A)[0]\n",
    "  FCN_pred = np.argmax(FCN_model.predict(sentence), axis=-1)[0]\n",
    "  result = pd.DataFrame([naive_bayes_pred, random_forest_pred, log_reg_pred, SVM_pred, FCN_pred]).mode()[0][0]\n",
    "  return result"
   ]
  },
  {
   "cell_type": "markdown",
   "metadata": {
    "id": "K6_xgSB-vpv8"
   },
   "source": [
    "# Make a prediction"
   ]
  },
  {
   "cell_type": "code",
   "execution_count": null,
   "metadata": {
    "colab": {
     "base_uri": "https://localhost:8080/"
    },
    "id": "lJCZMDgo9WM2",
    "outputId": "095b3c74-9741-47ad-8e45-452a93202edd"
   },
   "outputs": [
    {
     "data": {
      "text/plain": [
       "0.0"
      ]
     },
     "execution_count": 95,
     "metadata": {
      "tags": []
     },
     "output_type": "execute_result"
    }
   ],
   "source": [
    "predict('cũng được')"
   ]
  },
  {
   "cell_type": "code",
   "execution_count": null,
   "metadata": {
    "colab": {
     "base_uri": "https://localhost:8080/"
    },
    "id": "jHY5QInK9dTu",
    "outputId": "e1257f1c-a172-4ca1-b0a5-a8c445e80f2f"
   },
   "outputs": [
    {
     "data": {
      "text/plain": [
       "2.0"
      ]
     },
     "execution_count": 96,
     "metadata": {
      "tags": []
     },
     "output_type": "execute_result"
    }
   ],
   "source": [
    "predict('tạm được')"
   ]
  },
  {
   "cell_type": "code",
   "execution_count": null,
   "metadata": {
    "colab": {
     "base_uri": "https://localhost:8080/"
    },
    "id": "COOukaEk9g9c",
    "outputId": "8f686c90-3aae-460f-f55c-4ad2c634fc74"
   },
   "outputs": [
    {
     "data": {
      "text/plain": [
       "1.0"
      ]
     },
     "execution_count": 97,
     "metadata": {
      "tags": []
     },
     "output_type": "execute_result"
    }
   ],
   "source": [
    "predict('không được')"
   ]
  }
 ],
 "metadata": {
  "colab": {
   "collapsed_sections": [
    "3yP10nPcSFSt",
    "f1VC4IlJSVUq",
    "rEB31SetkkHU",
    "zx7LlLfjnpyX",
    "ev2vjxMaV7pI",
    "wvUtvxJRpJNY",
    "Xhn3wg8iri8I",
    "9PtsUaSuUMlh",
    "HEwmiRubrYQe",
    "YtTk1bVrYP1O",
    "xbY5JGbWUqVp",
    "sp3XrETKYjD5",
    "46Y7f2_NWunN",
    "YQQpPqwgTUdU",
    "a3Gp9ukuk4iR",
    "udYGVm-Mk-33",
    "BusVwtPIlExw",
    "K6_xgSB-vpv8"
   ],
   "name": "MODELs_and_ERRORs.ipynb",
   "provenance": []
  },
  "kernelspec": {
   "display_name": "Python 3",
   "language": "python",
   "name": "python3"
  },
  "language_info": {
   "codemirror_mode": {
    "name": "ipython",
    "version": 3
   },
   "file_extension": ".py",
   "mimetype": "text/x-python",
   "name": "python",
   "nbconvert_exporter": "python",
   "pygments_lexer": "ipython3",
   "version": "3.7.6"
  }
 },
 "nbformat": 4,
 "nbformat_minor": 1
}
